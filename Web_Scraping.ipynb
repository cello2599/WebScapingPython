{
 "cells": [
  {
   "cell_type": "code",
   "execution_count": 1,
   "id": "755faad3-a227-4a00-aee9-28bfc5790552",
   "metadata": {},
   "outputs": [],
   "source": [
    "import requests\n",
    "from lxml import html"
   ]
  },
  {
   "cell_type": "markdown",
   "id": "bb5f82e1-8c2a-458a-8542-0d6e00264c02",
   "metadata": {},
   "source": [
    "## In this notebook we try get data from e-commerce 'BUKALAPAK'"
   ]
  },
  {
   "cell_type": "code",
   "execution_count": 2,
   "id": "c50f5276-b787-45f4-9545-83a933204d43",
   "metadata": {},
   "outputs": [],
   "source": [
    "url = 'https://www.bukalapak.com/c/fashion-pria/sepatu-169?'"
   ]
  },
  {
   "cell_type": "code",
   "execution_count": 3,
   "id": "b76b98aa-f046-445d-8f5b-1d19be8d7717",
   "metadata": {},
   "outputs": [
    {
     "data": {
      "text/plain": [
       "<Response [200]>"
      ]
     },
     "execution_count": 3,
     "metadata": {},
     "output_type": "execute_result"
    }
   ],
   "source": [
    "response = requests.get(url)\n",
    "response"
   ]
  },
  {
   "cell_type": "code",
   "execution_count": 4,
   "id": "fcd9b59a-9cd4-46d7-94ee-dd649e7ecb21",
   "metadata": {},
   "outputs": [],
   "source": [
    "content = response.content\n",
    "parsed_content = html.fromstring(content)"
   ]
  },
  {
   "cell_type": "code",
   "execution_count": 5,
   "id": "1a2f21ec-8ccb-44f4-8f3c-4ada3909bf1d",
   "metadata": {},
   "outputs": [],
   "source": [
    "path = '//*[@id=\"product-explorer-container\"]/div/div[1]/div[2]/div/div[2]'"
   ]
  },
  {
   "cell_type": "code",
   "execution_count": 6,
   "id": "474e433c-762a-46f2-9075-ad85eec941d0",
   "metadata": {},
   "outputs": [],
   "source": [
    "sepatu = parsed_content.xpath(path)\n",
    "\n",
    "#//*[@id=\"product-explorer-container\"]/div/div[1]/div[2]/div/div[2]/div[3]\n",
    "#//*[@id=\"product-explorer-container\"]/div/div[1]/div[2]/div/div[2]/div[3]/div\n",
    "#//*[@id=\"product-explorer-container\"]/div/div[1]/div[2]/div/div[2]/div[3]/div/div[1]\n",
    "#//*[@id=\"product-explorer-container\"]/div/div[1]/div[2]/div/div[2]/div[3]/div/div[1]/div/div/div[2]"
   ]
  },
  {
   "cell_type": "markdown",
   "id": "fd8d0da8-03b3-4c85-a1db-b3fdeec7ccf9",
   "metadata": {},
   "source": [
    "### because the data in xpath cannot be retrieved, we have to do the preprocessing ourselves"
   ]
  },
  {
   "cell_type": "code",
   "execution_count": 7,
   "id": "e4ad5fdf-6c68-423e-8a56-a27612065f50",
   "metadata": {},
   "outputs": [],
   "source": [
    "data_sepatu = sepatu[0].text_content()"
   ]
  },
  {
   "cell_type": "code",
   "execution_count": 8,
   "id": "0f3b3365-6a57-494a-ba4e-2da57ea6c33f",
   "metadata": {},
   "outputs": [
    {
     "data": {
      "text/plain": [
       "' \\n        Urutkan:\\n          Terlaris    52.776 barang             \\n          0\\n          \\n            Sepatu Sepeda Motor ALL Bike AP Boots Hujan ALLBIKE 100 Original 439 - Merah 38\\n             \\n          Rp54.888\\n           \\n              4.9\\n              \\n          Terjual 27772\\n         Depok LBS OFFICIAL STORE                \\n          0\\n          \\n            Tali sepatu\\n             \\n          Rp700\\n           \\n              4.9\\n              \\n          Terjual 8882\\n         Bogor Indra _ jaket _ Cimanggu                \\n          0\\n          \\n            Tali Sepatu Oval panjang satu meter\\n             \\n          Rp800\\n           \\n              4.8\\n              \\n          Terjual 7477\\n         Bogor Indra _ jaket _ Cimanggu                \\n          0\\n          \\n            Sepatu converse all star  + box\\n             \\n          Rp123.500\\n           \\n              4.5\\n              \\n          Terjual 7476\\n         Kab. Tangerang Star Shoes                \\n          0\\n          \\n            Sepatu Adidas Slip On Casual\\n             \\n          Rp70.000\\n           \\n              4.4\\n              \\n          Terjual 5164\\n         Kab. Bandung Rezeki                \\n          0\\n          \\n            ALAS  SEPATU atau BUSA ALAS DALAM SEPATU INSOLE\\n             \\n          Rp4.000\\n           \\n              4.8\\n              \\n          Terjual 5102\\n         Kab. Bogor wiwik nanang                \\n          0\\n          \\n            Sepatu Safety - Safety Low Boots - Sepatu Kerja Safety Industry Proyek Safety Shoes Premium\\n             \\n          Rp135.000\\n           \\n              4.9\\n              \\n          Terjual 4564\\n         Kab. Tangerang Seven Point Store                \\n          0\\n          \\n            COD - SEPATU PANTOFEL MOCASSIN PRIA KULIT ASLI - HITAM COKELAT\\n             \\n          Rp135.000\\n           \\n              4.7\\n              \\n          Terjual 4463\\n         Bandung Bellionz                \\n          0\\n          \\n            Tali Sepatu/Tali Jumper Meteran Hitam\\n             \\n          Rp2.250\\n           \\n              4.8\\n              \\n          Terjual 4394\\n         Malang Heaven Kaufen                \\n          0\\n          \\n            Sepatu Sneakers Sneaker Pria Wanita Casual Sepatu Kerja Sekolah Olahraga Running Lari Import Original\\n             \\n          Rp159.000\\n         \\n            Rp228.000\\n           \\n            -30%\\n            \\n              5\\n              \\n          Terjual 4262\\n         Jakarta Pusat White Stone                 \\n          0\\n          \\n            Sepatu Sneakers Sneaker Pria Wanita Sepatu Running Lari Olahraga Casual Kets\\n             \\n          Rp159.000\\n         \\n            Rp229.000\\n           \\n            -31%\\n            \\n              5\\n              \\n          Terjual 4253\\n         Jakarta Pusat White Stone                 \\n          0\\n          \\n            COD - SEPATU KULIT PRIA CASUAL - SEPATU KANTOR PRIA CASUAL - PANSUS HITAM COKELAT XT4Y\\n             \\n          Rp345.000\\n           \\n              5\\n              \\n          Terjual 4010\\n         Bandung Bellionz                 \\n          0\\n          \\n            Sepatu Original Pria Hipzo M 033 Badminton Olahraga Sekolah Kerja Sepatu Sneakers Ori\\n             \\n          Rp95.000\\n           \\n              4.8\\n              \\n          Terjual 4005\\n         Kab. Mojokerto Hipzo Official Shop                 \\n          0\\n          \\n            Sepatu Karet Pria - Pantofel - Sepatu Kerja - Sepatu Formal C\\n             \\n          Rp32.400\\n         \\n            Rp58.000\\n           \\n            -44%\\n            \\n              4.8\\n              \\n          Terjual 3960\\n         Jakarta Selatan 89stories                 \\n          0\\n          \\n            ORTHOPEDIC SILICON GEL INSOLE FULL SHOE SPORT INSERT PAD ALAS SEPATU\\n             \\n          Rp50.000\\n           \\n              4.9\\n              \\n          Terjual 3908\\n         Tangerang Need Soon                 \\n          0\\n          \\n            Sepatu AP Hobby N Work Boots Kerja By AP BOOT Pendek Pvc Waterproof - Hitam 40\\n             \\n          Rp64.888\\n           \\n              4.9\\n              \\n          Terjual 3794\\n         Depok LBS OFFICIAL STORE                 \\n          0\\n          \\n            Sepatu Sneakers Pria Wanita Sepatu Kets Casual Running Lari Olahraga Sport\\n             \\n          Rp169.000\\n         \\n            Rp298.000\\n           \\n            -43%\\n            \\n              5\\n              \\n          Terjual 3688\\n         Jakarta Pusat White Stone                 \\n          0\\n          \\n            TALI SEPATU BULAT LORENG\\n             \\n          Rp1.800\\n           \\n              4.8\\n              \\n          Terjual 3654\\n         Kab. Bogor wiwik nanang                 \\n          0\\n          \\n            SEPATU SAFETY CUSTOM\\n             \\n          Rp95.000\\n           \\n              4.8\\n              \\n          Terjual 3614\\n         Bandung Jakober_Store                 \\n          0\\n          \\n            Sepatu Pria Hipzo M 039 Formal Sneakers Original NEW\\n             \\n          Rp120.000\\n           \\n              4.9\\n              \\n          Terjual 3515\\n         Kab. Mojokerto Hipzo Official Shop                 \\n          0\\n          \\n            Sepatu Sneakers Sneaker Pria Wanita Sepatu Kerja Sekolah Casual Santai Sepatu Kets Olahraga Running Lari Original\\n             \\n          Rp149.000\\n         \\n            Rp199.000\\n           \\n            -25%\\n            \\n              5\\n              \\n          Terjual 3306\\n         Jakarta Pusat White Stone                 \\n          0\\n          \\n            Sepatu Safety bahan kulit sapi asli\\n             \\n          Rp110.000\\n           \\n              4.7\\n              \\n          Terjual 3174\\n         Surabaya Fitria Diah Wulansari                 \\n          0\\n          \\n            Sepatu Pantofel Kulit Sapi pria jaminan uang kembali jika bukan kulit 174\\n             \\n          Rp115.000\\n           \\n              4.7\\n              \\n          Terjual 3134\\n         Surabaya Fitria Diah Wulansari                 \\n          0\\n          \\n            Sepatu safety boot kulit sapi asli jaminan uang kembali jika bukan kulit.\\n             \\n          Rp130.000\\n           \\n              4.6\\n              \\n          Terjual 3101\\n         Surabaya Fitria Diah Wulansari                 \\n          0\\n          \\n            Sepatu Pria Safety BESI Hipzo M 41 Original 100 Untuk Pria Kerja Proyek\\n             \\n          Rp140.000\\n           \\n              4.9\\n              \\n          Terjual 2849\\n         Kab. Mojokerto Hipzo Official Shop                 \\n          0\\n          \\n            INSOLE ARCH SUPPORT FLAT FOOT ORTHOPEDIC ORTHOTIC TEBAL 3CM ALAS KAKI\\n             \\n          Rp41.500\\n           \\n              4.9\\n              \\n          Terjual 2845\\n         Tangerang Need Soon                 \\n          0\\n          \\n            Sepatu pantofel pria kulit sapi asli gak kulit uang kembali 178\\n             \\n          Rp115.000\\n           \\n              4.8\\n              \\n          Terjual 2795\\n         Surabaya Fitria Diah Wulansari                 \\n          0\\n          \\n            INSOLE ORTHOTIC SPORT SHOCK ABSORBING SEPATU OLAHRAGA BREATABLE MESH\\n             \\n          Rp79.500\\n           \\n              4.9\\n              \\n          Terjual 2792\\n         Tangerang Need Soon                 \\n          0\\n          \\n            Sepatu Safety Bahan Kulit Ujung Besi Sepatu Tali\\n             \\n          Rp90.000\\n           \\n              5\\n              \\n          Terjual 2600\\n         Bandung Jakober_Store                 \\n          0\\n          \\n            Sepatu Sneakers Sneaker Pria Wanita Sepatu Kerja Sekolah Casual Sepatu Kets Olahraga Running Lari\\n             \\n          Rp149.000\\n         \\n            Rp199.000\\n           \\n            -25%\\n            \\n              5\\n              \\n          Terjual 2261\\n         Jakarta Pusat White Stone         \\n      \\n        \\n          \\n            \\n              1\\n            \\n          \\n        \\n          \\n            \\n              2\\n            \\n          \\n          \\n            \\n              3\\n            \\n          \\n          \\n            \\n              4\\n            \\n          \\n          \\n            \\n              5\\n            \\n          \\n          \\n            \\n              6\\n            \\n          \\n          \\n            \\n              7\\n            \\n          \\n          \\n            \\n              8\\n            \\n          \\n          \\n            \\n              9\\n            \\n          \\n    …\\n    \\n      \\n        99\\n      \\n    \\n    \\n    \\n    \\n        \\n      \\n          \\n            Cari Sepatu di halaman lainnya\\n          \\n          \\n            \\n          \\n            \\n              11\\n            \\n          \\n        \\n          \\n            \\n              12\\n            \\n          \\n        \\n          \\n            \\n              13\\n            \\n          \\n        \\n          \\n            \\n              14\\n            \\n          \\n        \\n          \\n            \\n              15\\n            \\n          \\n        \\n          \\n            \\n              16\\n            \\n          \\n        \\n          \\n            \\n              17\\n            \\n          \\n        \\n          \\n            \\n              18\\n            \\n          \\n        \\n          \\n            \\n              19\\n            \\n          \\n        \\n          \\n            \\n              20\\n            \\n          \\n        \\n     '"
      ]
     },
     "execution_count": 8,
     "metadata": {},
     "output_type": "execute_result"
    }
   ],
   "source": [
    "data_sepatu"
   ]
  },
  {
   "cell_type": "code",
   "execution_count": 9,
   "id": "d02e79d7-9ec7-489b-9176-1cdef79dfa27",
   "metadata": {},
   "outputs": [],
   "source": [
    "data_sepatu = str(data_sepatu)\n",
    "data_sepatu = data_sepatu.strip()"
   ]
  },
  {
   "cell_type": "code",
   "execution_count": 10,
   "id": "515de4db-42b6-4602-ba5d-62fcee415e14",
   "metadata": {},
   "outputs": [
    {
     "data": {
      "text/plain": [
       "'Urutkan:\\n          Terlaris    52.776 barang             \\n          0\\n          \\n            Sepatu Sepeda Motor ALL Bike AP Boots Hujan ALLBIKE 100 Original 439 - Merah 38\\n             \\n          Rp54.888\\n           \\n              4.9\\n              \\n          Terjual 27772\\n         Depok LBS OFFICIAL STORE                \\n          0\\n          \\n            Tali sepatu\\n             \\n          Rp700\\n           \\n              4.9\\n              \\n          Terjual 8882\\n         Bogor Indra _ jaket _ Cimanggu                \\n          0\\n          \\n            Tali Sepatu Oval panjang satu meter\\n             \\n          Rp800\\n           \\n              4.8\\n              \\n          Terjual 7477\\n         Bogor Indra _ jaket _ Cimanggu                \\n          0\\n          \\n            Sepatu converse all star  + box\\n             \\n          Rp123.500\\n           \\n              4.5\\n              \\n          Terjual 7476\\n         Kab. Tangerang Star Shoes                \\n          0\\n          \\n            Sepatu Adidas Slip On Casual\\n             \\n          Rp70.000\\n           \\n              4.4\\n              \\n          Terjual 5164\\n         Kab. Bandung Rezeki                \\n          0\\n          \\n            ALAS  SEPATU atau BUSA ALAS DALAM SEPATU INSOLE\\n             \\n          Rp4.000\\n           \\n              4.8\\n              \\n          Terjual 5102\\n         Kab. Bogor wiwik nanang                \\n          0\\n          \\n            Sepatu Safety - Safety Low Boots - Sepatu Kerja Safety Industry Proyek Safety Shoes Premium\\n             \\n          Rp135.000\\n           \\n              4.9\\n              \\n          Terjual 4564\\n         Kab. Tangerang Seven Point Store                \\n          0\\n          \\n            COD - SEPATU PANTOFEL MOCASSIN PRIA KULIT ASLI - HITAM COKELAT\\n             \\n          Rp135.000\\n           \\n              4.7\\n              \\n          Terjual 4463\\n         Bandung Bellionz                \\n          0\\n          \\n            Tali Sepatu/Tali Jumper Meteran Hitam\\n             \\n          Rp2.250\\n           \\n              4.8\\n              \\n          Terjual 4394\\n         Malang Heaven Kaufen                \\n          0\\n          \\n            Sepatu Sneakers Sneaker Pria Wanita Casual Sepatu Kerja Sekolah Olahraga Running Lari Import Original\\n             \\n          Rp159.000\\n         \\n            Rp228.000\\n           \\n            -30%\\n            \\n              5\\n              \\n          Terjual 4262\\n         Jakarta Pusat White Stone                 \\n          0\\n          \\n            Sepatu Sneakers Sneaker Pria Wanita Sepatu Running Lari Olahraga Casual Kets\\n             \\n          Rp159.000\\n         \\n            Rp229.000\\n           \\n            -31%\\n            \\n              5\\n              \\n          Terjual 4253\\n         Jakarta Pusat White Stone                 \\n          0\\n          \\n            COD - SEPATU KULIT PRIA CASUAL - SEPATU KANTOR PRIA CASUAL - PANSUS HITAM COKELAT XT4Y\\n             \\n          Rp345.000\\n           \\n              5\\n              \\n          Terjual 4010\\n         Bandung Bellionz                 \\n          0\\n          \\n            Sepatu Original Pria Hipzo M 033 Badminton Olahraga Sekolah Kerja Sepatu Sneakers Ori\\n             \\n          Rp95.000\\n           \\n              4.8\\n              \\n          Terjual 4005\\n         Kab. Mojokerto Hipzo Official Shop                 \\n          0\\n          \\n            Sepatu Karet Pria - Pantofel - Sepatu Kerja - Sepatu Formal C\\n             \\n          Rp32.400\\n         \\n            Rp58.000\\n           \\n            -44%\\n            \\n              4.8\\n              \\n          Terjual 3960\\n         Jakarta Selatan 89stories                 \\n          0\\n          \\n            ORTHOPEDIC SILICON GEL INSOLE FULL SHOE SPORT INSERT PAD ALAS SEPATU\\n             \\n          Rp50.000\\n           \\n              4.9\\n              \\n          Terjual 3908\\n         Tangerang Need Soon                 \\n          0\\n          \\n            Sepatu AP Hobby N Work Boots Kerja By AP BOOT Pendek Pvc Waterproof - Hitam 40\\n             \\n          Rp64.888\\n           \\n              4.9\\n              \\n          Terjual 3794\\n         Depok LBS OFFICIAL STORE                 \\n          0\\n          \\n            Sepatu Sneakers Pria Wanita Sepatu Kets Casual Running Lari Olahraga Sport\\n             \\n          Rp169.000\\n         \\n            Rp298.000\\n           \\n            -43%\\n            \\n              5\\n              \\n          Terjual 3688\\n         Jakarta Pusat White Stone                 \\n          0\\n          \\n            TALI SEPATU BULAT LORENG\\n             \\n          Rp1.800\\n           \\n              4.8\\n              \\n          Terjual 3654\\n         Kab. Bogor wiwik nanang                 \\n          0\\n          \\n            SEPATU SAFETY CUSTOM\\n             \\n          Rp95.000\\n           \\n              4.8\\n              \\n          Terjual 3614\\n         Bandung Jakober_Store                 \\n          0\\n          \\n            Sepatu Pria Hipzo M 039 Formal Sneakers Original NEW\\n             \\n          Rp120.000\\n           \\n              4.9\\n              \\n          Terjual 3515\\n         Kab. Mojokerto Hipzo Official Shop                 \\n          0\\n          \\n            Sepatu Sneakers Sneaker Pria Wanita Sepatu Kerja Sekolah Casual Santai Sepatu Kets Olahraga Running Lari Original\\n             \\n          Rp149.000\\n         \\n            Rp199.000\\n           \\n            -25%\\n            \\n              5\\n              \\n          Terjual 3306\\n         Jakarta Pusat White Stone                 \\n          0\\n          \\n            Sepatu Safety bahan kulit sapi asli\\n             \\n          Rp110.000\\n           \\n              4.7\\n              \\n          Terjual 3174\\n         Surabaya Fitria Diah Wulansari                 \\n          0\\n          \\n            Sepatu Pantofel Kulit Sapi pria jaminan uang kembali jika bukan kulit 174\\n             \\n          Rp115.000\\n           \\n              4.7\\n              \\n          Terjual 3134\\n         Surabaya Fitria Diah Wulansari                 \\n          0\\n          \\n            Sepatu safety boot kulit sapi asli jaminan uang kembali jika bukan kulit.\\n             \\n          Rp130.000\\n           \\n              4.6\\n              \\n          Terjual 3101\\n         Surabaya Fitria Diah Wulansari                 \\n          0\\n          \\n            Sepatu Pria Safety BESI Hipzo M 41 Original 100 Untuk Pria Kerja Proyek\\n             \\n          Rp140.000\\n           \\n              4.9\\n              \\n          Terjual 2849\\n         Kab. Mojokerto Hipzo Official Shop                 \\n          0\\n          \\n            INSOLE ARCH SUPPORT FLAT FOOT ORTHOPEDIC ORTHOTIC TEBAL 3CM ALAS KAKI\\n             \\n          Rp41.500\\n           \\n              4.9\\n              \\n          Terjual 2845\\n         Tangerang Need Soon                 \\n          0\\n          \\n            Sepatu pantofel pria kulit sapi asli gak kulit uang kembali 178\\n             \\n          Rp115.000\\n           \\n              4.8\\n              \\n          Terjual 2795\\n         Surabaya Fitria Diah Wulansari                 \\n          0\\n          \\n            INSOLE ORTHOTIC SPORT SHOCK ABSORBING SEPATU OLAHRAGA BREATABLE MESH\\n             \\n          Rp79.500\\n           \\n              4.9\\n              \\n          Terjual 2792\\n         Tangerang Need Soon                 \\n          0\\n          \\n            Sepatu Safety Bahan Kulit Ujung Besi Sepatu Tali\\n             \\n          Rp90.000\\n           \\n              5\\n              \\n          Terjual 2600\\n         Bandung Jakober_Store                 \\n          0\\n          \\n            Sepatu Sneakers Sneaker Pria Wanita Sepatu Kerja Sekolah Casual Sepatu Kets Olahraga Running Lari\\n             \\n          Rp149.000\\n         \\n            Rp199.000\\n           \\n            -25%\\n            \\n              5\\n              \\n          Terjual 2261\\n         Jakarta Pusat White Stone         \\n      \\n        \\n          \\n            \\n              1\\n            \\n          \\n        \\n          \\n            \\n              2\\n            \\n          \\n          \\n            \\n              3\\n            \\n          \\n          \\n            \\n              4\\n            \\n          \\n          \\n            \\n              5\\n            \\n          \\n          \\n            \\n              6\\n            \\n          \\n          \\n            \\n              7\\n            \\n          \\n          \\n            \\n              8\\n            \\n          \\n          \\n            \\n              9\\n            \\n          \\n    …\\n    \\n      \\n        99\\n      \\n    \\n    \\n    \\n    \\n        \\n      \\n          \\n            Cari Sepatu di halaman lainnya\\n          \\n          \\n            \\n          \\n            \\n              11\\n            \\n          \\n        \\n          \\n            \\n              12\\n            \\n          \\n        \\n          \\n            \\n              13\\n            \\n          \\n        \\n          \\n            \\n              14\\n            \\n          \\n        \\n          \\n            \\n              15\\n            \\n          \\n        \\n          \\n            \\n              16\\n            \\n          \\n        \\n          \\n            \\n              17\\n            \\n          \\n        \\n          \\n            \\n              18\\n            \\n          \\n        \\n          \\n            \\n              19\\n            \\n          \\n        \\n          \\n            \\n              20'"
      ]
     },
     "execution_count": 10,
     "metadata": {},
     "output_type": "execute_result"
    }
   ],
   "source": [
    "data_sepatu"
   ]
  },
  {
   "cell_type": "code",
   "execution_count": 13,
   "id": "5a731bd1-a959-4fc6-814f-b7bd2004110c",
   "metadata": {},
   "outputs": [],
   "source": [
    "separator = 'Urutkan:\\n          Terlaris    52.776 barang             \\n          '\n",
    "parts = data_sepatu.split(separator)"
   ]
  },
  {
   "cell_type": "code",
   "execution_count": 14,
   "id": "2138a4ed-b883-4ad0-a175-e94fc67c5fbf",
   "metadata": {},
   "outputs": [],
   "source": [
    "produk_sepatu = parts[1]\n",
    "#produk_sepatu"
   ]
  },
  {
   "cell_type": "markdown",
   "id": "b75f7540-4bd8-4737-b06f-0c6463e4b466",
   "metadata": {},
   "source": [
    "### try to get data for each product"
   ]
  },
  {
   "cell_type": "code",
   "execution_count": 15,
   "id": "a7ff6bbc-e553-4e7e-ad08-36630cd8ad3b",
   "metadata": {},
   "outputs": [],
   "source": [
    "produk_sepatu = produk_sepatu.split('0\\n          \\n            ')\n",
    "#produk_sepatu"
   ]
  },
  {
   "cell_type": "code",
   "execution_count": 28,
   "id": "edaf7e2f-bb9d-456c-b29b-86d435bd594d",
   "metadata": {},
   "outputs": [
    {
     "data": {
      "text/plain": [
       "'Sepatu Sepeda Motor ALL Bike AP Boots Hujan ALLBIKE 100 Original 439 - Merah 38\\n             \\n          Rp54.888\\n           \\n              4.9\\n              \\n          Terjual 27772\\n         Depok LBS OFFICIAL STORE                \\n          '"
      ]
     },
     "execution_count": 28,
     "metadata": {},
     "output_type": "execute_result"
    }
   ],
   "source": [
    "produk_sepatu[1]"
   ]
  },
  {
   "cell_type": "code",
   "execution_count": 29,
   "id": "83aca5e1-f78f-4842-ad30-b675240af415",
   "metadata": {},
   "outputs": [
    {
     "data": {
      "text/plain": [
       "['Sepatu Sepeda Motor ALL Bike AP Boots Hujan ALLBIKE 100 Original 439 - Merah 38',\n",
       " '             ',\n",
       " '          Rp54.888',\n",
       " '           ',\n",
       " '              4.9',\n",
       " '              ',\n",
       " '          Terjual 27772',\n",
       " '         Depok LBS OFFICIAL STORE']"
      ]
     },
     "execution_count": 29,
     "metadata": {},
     "output_type": "execute_result"
    }
   ],
   "source": [
    "data1 = produk_sepatu[1].strip().split('\\n')\n",
    "data1"
   ]
  },
  {
   "cell_type": "code",
   "execution_count": 30,
   "id": "47d9330d-aa1d-4fa6-b765-630ecda8bb25",
   "metadata": {},
   "outputs": [
    {
     "data": {
      "text/plain": [
       "['Sepatu Sneakers Sneaker Pria Wanita Casual Sepatu Kerja Sekolah Olahraga Running Lari Import Original',\n",
       " '             ',\n",
       " '          Rp159.000',\n",
       " '         ',\n",
       " '            Rp228.000',\n",
       " '           ',\n",
       " '            -30%',\n",
       " '            ',\n",
       " '              5',\n",
       " '              ',\n",
       " '          Terjual 4262',\n",
       " '         Jakarta Pusat White Stone']"
      ]
     },
     "execution_count": 30,
     "metadata": {},
     "output_type": "execute_result"
    }
   ],
   "source": [
    "data2 = produk_sepatu[10].strip().split('\\n')\n",
    "data2"
   ]
  },
  {
   "cell_type": "code",
   "execution_count": 31,
   "id": "866691a4-f526-430a-a63d-f34fc05acad2",
   "metadata": {},
   "outputs": [
    {
     "name": "stdout",
     "output_type": "stream",
     "text": [
      "8\n",
      "12\n"
     ]
    }
   ],
   "source": [
    "print(len(data1))\n",
    "print(len(data2))"
   ]
  },
  {
   "cell_type": "code",
   "execution_count": 32,
   "id": "18175c00-7e05-46f3-86d2-210460bfbad5",
   "metadata": {},
   "outputs": [],
   "source": [
    "array = []\n",
    "\n",
    "for i in data1:\n",
    "    array.append(i)"
   ]
  },
  {
   "cell_type": "code",
   "execution_count": 33,
   "id": "664d7b95-3674-45ae-aa7c-6a852727d2cc",
   "metadata": {},
   "outputs": [
    {
     "data": {
      "text/plain": [
       "'Depok LBS OFFICIAL STORE'"
      ]
     },
     "execution_count": 33,
     "metadata": {},
     "output_type": "execute_result"
    }
   ],
   "source": [
    "array[7].strip()"
   ]
  },
  {
   "cell_type": "code",
   "execution_count": 34,
   "id": "d531de2c-7877-4543-8a70-9dc85543580c",
   "metadata": {},
   "outputs": [],
   "source": [
    "array2 = []\n",
    "\n",
    "for i in data2:\n",
    "    array2.append(i)"
   ]
  },
  {
   "cell_type": "code",
   "execution_count": 35,
   "id": "7e4e07f0-3381-4bb2-9dea-82f6d0b6c359",
   "metadata": {},
   "outputs": [
    {
     "data": {
      "text/plain": [
       "'Jakarta Pusat White Stone'"
      ]
     },
     "execution_count": 35,
     "metadata": {},
     "output_type": "execute_result"
    }
   ],
   "source": [
    "array2[11].strip()"
   ]
  },
  {
   "cell_type": "markdown",
   "id": "6a5b8d93-b924-4da6-9667-a324266b1115",
   "metadata": {},
   "source": [
    "# function for mapping product data after repair"
   ]
  },
  {
   "cell_type": "code",
   "execution_count": 36,
   "id": "1a8a848b-bdfb-4289-a060-1d7f9e989be6",
   "metadata": {},
   "outputs": [],
   "source": [
    "def getInfoProduk(item):\n",
    "    if item.strip():\n",
    "        lines = item.strip().split('\\n')\n",
    "        if len(lines) > 8:\n",
    "            produk = {\n",
    "                'produk' : lines[0].strip(),\n",
    "                'harga' : lines[4].strip(),\n",
    "                'rating' : lines[8].strip(),\n",
    "                'penjualan' : lines[10].strip(),\n",
    "                'store': lines[11].strip()\n",
    "            }\n",
    "        else :\n",
    "            produk = {\n",
    "                'produk': lines[0].strip(),\n",
    "                'harga' : lines[2].strip(),\n",
    "                'rating' : lines[4].strip(),\n",
    "                'penjualan' : lines[6].strip(),\n",
    "                'store': lines[7].strip()\n",
    "            }\n",
    "        return produk"
   ]
  },
  {
   "cell_type": "code",
   "execution_count": 37,
   "id": "efd2e658-9291-4479-a570-cdf26fb82c55",
   "metadata": {},
   "outputs": [],
   "source": [
    "products = []\n",
    "\n",
    "for i in produk_sepatu:\n",
    "    products.append(getInfoProduk(i))"
   ]
  },
  {
   "cell_type": "code",
   "execution_count": 38,
   "id": "bcbdabb5-7339-4472-80ba-92ef243adf58",
   "metadata": {},
   "outputs": [
    {
     "data": {
      "text/plain": [
       "[None,\n",
       " {'produk': 'Sepatu Sepeda Motor ALL Bike AP Boots Hujan ALLBIKE 100 Original 439 - Merah 38',\n",
       "  'harga': 'Rp54.888',\n",
       "  'rating': '4.9',\n",
       "  'penjualan': 'Terjual 27772',\n",
       "  'store': 'Depok LBS OFFICIAL STORE'},\n",
       " {'produk': 'Tali sepatu',\n",
       "  'harga': 'Rp700',\n",
       "  'rating': '4.9',\n",
       "  'penjualan': 'Terjual 8882',\n",
       "  'store': 'Bogor Indra _ jaket _ Cimanggu'},\n",
       " {'produk': 'Tali Sepatu Oval panjang satu meter',\n",
       "  'harga': 'Rp800',\n",
       "  'rating': '4.8',\n",
       "  'penjualan': 'Terjual 7477',\n",
       "  'store': 'Bogor Indra _ jaket _ Cimanggu'},\n",
       " {'produk': 'Sepatu converse all star  + box',\n",
       "  'harga': 'Rp123.500',\n",
       "  'rating': '4.5',\n",
       "  'penjualan': 'Terjual 7476',\n",
       "  'store': 'Kab. Tangerang Star Shoes'},\n",
       " {'produk': 'Sepatu Adidas Slip On Casual',\n",
       "  'harga': 'Rp70.000',\n",
       "  'rating': '4.4',\n",
       "  'penjualan': 'Terjual 5164',\n",
       "  'store': 'Kab. Bandung Rezeki'},\n",
       " {'produk': 'ALAS  SEPATU atau BUSA ALAS DALAM SEPATU INSOLE',\n",
       "  'harga': 'Rp4.000',\n",
       "  'rating': '4.8',\n",
       "  'penjualan': 'Terjual 5102',\n",
       "  'store': 'Kab. Bogor wiwik nanang'},\n",
       " {'produk': 'Sepatu Safety - Safety Low Boots - Sepatu Kerja Safety Industry Proyek Safety Shoes Premium',\n",
       "  'harga': 'Rp135.000',\n",
       "  'rating': '4.9',\n",
       "  'penjualan': 'Terjual 4564',\n",
       "  'store': 'Kab. Tangerang Seven Point Store'},\n",
       " {'produk': 'COD - SEPATU PANTOFEL MOCASSIN PRIA KULIT ASLI - HITAM COKELAT',\n",
       "  'harga': 'Rp135.000',\n",
       "  'rating': '4.7',\n",
       "  'penjualan': 'Terjual 4463',\n",
       "  'store': 'Bandung Bellionz'},\n",
       " {'produk': 'Tali Sepatu/Tali Jumper Meteran Hitam',\n",
       "  'harga': 'Rp2.250',\n",
       "  'rating': '4.8',\n",
       "  'penjualan': 'Terjual 4394',\n",
       "  'store': 'Malang Heaven Kaufen'},\n",
       " {'produk': 'Sepatu Sneakers Sneaker Pria Wanita Casual Sepatu Kerja Sekolah Olahraga Running Lari Import Original',\n",
       "  'harga': 'Rp228.000',\n",
       "  'rating': '5',\n",
       "  'penjualan': 'Terjual 4262',\n",
       "  'store': 'Jakarta Pusat White Stone'},\n",
       " {'produk': 'Sepatu Sneakers Sneaker Pria Wanita Sepatu Running Lari Olahraga Casual Kets',\n",
       "  'harga': 'Rp229.000',\n",
       "  'rating': '5',\n",
       "  'penjualan': 'Terjual 4253',\n",
       "  'store': 'Jakarta Pusat White Stone'},\n",
       " {'produk': 'COD - SEPATU KULIT PRIA CASUAL - SEPATU KANTOR PRIA CASUAL - PANSUS HITAM COKELAT XT4Y',\n",
       "  'harga': 'Rp345.000',\n",
       "  'rating': '5',\n",
       "  'penjualan': 'Terjual 4010',\n",
       "  'store': 'Bandung Bellionz'},\n",
       " {'produk': 'Sepatu Original Pria Hipzo M 033 Badminton Olahraga Sekolah Kerja Sepatu Sneakers Ori',\n",
       "  'harga': 'Rp95.000',\n",
       "  'rating': '4.8',\n",
       "  'penjualan': 'Terjual 4005',\n",
       "  'store': 'Kab. Mojokerto Hipzo Official Shop'},\n",
       " {'produk': 'Sepatu Karet Pria - Pantofel - Sepatu Kerja - Sepatu Formal C',\n",
       "  'harga': 'Rp58.000',\n",
       "  'rating': '4.8',\n",
       "  'penjualan': 'Terjual 3960',\n",
       "  'store': 'Jakarta Selatan 89stories'},\n",
       " {'produk': 'ORTHOPEDIC SILICON GEL INSOLE FULL SHOE SPORT INSERT PAD ALAS SEPATU',\n",
       "  'harga': 'Rp50.000',\n",
       "  'rating': '4.9',\n",
       "  'penjualan': 'Terjual 3908',\n",
       "  'store': 'Tangerang Need Soon'},\n",
       " {'produk': 'Sepatu AP Hobby N Work Boots Kerja By AP BOOT Pendek Pvc Waterproof - Hitam 40',\n",
       "  'harga': 'Rp64.888',\n",
       "  'rating': '4.9',\n",
       "  'penjualan': 'Terjual 3794',\n",
       "  'store': 'Depok LBS OFFICIAL STORE'},\n",
       " {'produk': 'Sepatu Sneakers Pria Wanita Sepatu Kets Casual Running Lari Olahraga Sport',\n",
       "  'harga': 'Rp298.000',\n",
       "  'rating': '5',\n",
       "  'penjualan': 'Terjual 3688',\n",
       "  'store': 'Jakarta Pusat White Stone'},\n",
       " {'produk': 'TALI SEPATU BULAT LORENG',\n",
       "  'harga': 'Rp1.800',\n",
       "  'rating': '4.8',\n",
       "  'penjualan': 'Terjual 3654',\n",
       "  'store': 'Kab. Bogor wiwik nanang'},\n",
       " {'produk': 'SEPATU SAFETY CUSTOM',\n",
       "  'harga': 'Rp95.000',\n",
       "  'rating': '4.8',\n",
       "  'penjualan': 'Terjual 3614',\n",
       "  'store': 'Bandung Jakober_Store'},\n",
       " {'produk': 'Sepatu Pria Hipzo M 039 Formal Sneakers Original NEW',\n",
       "  'harga': 'Rp120.000',\n",
       "  'rating': '4.9',\n",
       "  'penjualan': 'Terjual 3515',\n",
       "  'store': 'Kab. Mojokerto Hipzo Official Shop'},\n",
       " {'produk': 'Sepatu Sneakers Sneaker Pria Wanita Sepatu Kerja Sekolah Casual Santai Sepatu Kets Olahraga Running Lari Original',\n",
       "  'harga': 'Rp199.000',\n",
       "  'rating': '5',\n",
       "  'penjualan': 'Terjual 3306',\n",
       "  'store': 'Jakarta Pusat White Stone'},\n",
       " {'produk': 'Sepatu Safety bahan kulit sapi asli',\n",
       "  'harga': 'Rp110.000',\n",
       "  'rating': '4.7',\n",
       "  'penjualan': 'Terjual 3174',\n",
       "  'store': 'Surabaya Fitria Diah Wulansari'},\n",
       " {'produk': 'Sepatu Pantofel Kulit Sapi pria jaminan uang kembali jika bukan kulit 174',\n",
       "  'harga': 'Rp115.000',\n",
       "  'rating': '4.7',\n",
       "  'penjualan': 'Terjual 3134',\n",
       "  'store': 'Surabaya Fitria Diah Wulansari'},\n",
       " {'produk': 'Sepatu safety boot kulit sapi asli jaminan uang kembali jika bukan kulit.',\n",
       "  'harga': 'Rp130.000',\n",
       "  'rating': '4.6',\n",
       "  'penjualan': 'Terjual 3101',\n",
       "  'store': 'Surabaya Fitria Diah Wulansari'},\n",
       " {'produk': 'Sepatu Pria Safety BESI Hipzo M 41 Original 100 Untuk Pria Kerja Proyek',\n",
       "  'harga': 'Rp140.000',\n",
       "  'rating': '4.9',\n",
       "  'penjualan': 'Terjual 2849',\n",
       "  'store': 'Kab. Mojokerto Hipzo Official Shop'},\n",
       " {'produk': 'INSOLE ARCH SUPPORT FLAT FOOT ORTHOPEDIC ORTHOTIC TEBAL 3CM ALAS KAKI',\n",
       "  'harga': 'Rp41.500',\n",
       "  'rating': '4.9',\n",
       "  'penjualan': 'Terjual 2845',\n",
       "  'store': 'Tangerang Need Soon'},\n",
       " {'produk': 'Sepatu pantofel pria kulit sapi asli gak kulit uang kembali 178',\n",
       "  'harga': 'Rp115.000',\n",
       "  'rating': '4.8',\n",
       "  'penjualan': 'Terjual 2795',\n",
       "  'store': 'Surabaya Fitria Diah Wulansari'},\n",
       " {'produk': 'INSOLE ORTHOTIC SPORT SHOCK ABSORBING SEPATU OLAHRAGA BREATABLE MESH',\n",
       "  'harga': 'Rp79.500',\n",
       "  'rating': '4.9',\n",
       "  'penjualan': 'Terjual 2792',\n",
       "  'store': 'Tangerang Need Soon'},\n",
       " {'produk': 'Sepatu Safety Bahan Kulit Ujung Besi Sepatu Tali',\n",
       "  'harga': 'Rp90.000',\n",
       "  'rating': '5',\n",
       "  'penjualan': 'Terjual 2600',\n",
       "  'store': 'Bandung Jakober_Store'},\n",
       " {'produk': 'Sepatu Sneakers Sneaker Pria Wanita Sepatu Kerja Sekolah Casual Sepatu Kets Olahraga Running Lari',\n",
       "  'harga': 'Rp199.000',\n",
       "  'rating': '5',\n",
       "  'penjualan': 'Terjual 2261',\n",
       "  'store': 'Jakarta Pusat White Stone'}]"
      ]
     },
     "execution_count": 38,
     "metadata": {},
     "output_type": "execute_result"
    }
   ],
   "source": [
    "products"
   ]
  },
  {
   "cell_type": "code",
   "execution_count": 39,
   "id": "2b00c949-b390-44e6-a2be-ffaaca177149",
   "metadata": {},
   "outputs": [],
   "source": [
    "#products[0]\n",
    "products.pop(0)"
   ]
  },
  {
   "cell_type": "code",
   "execution_count": 40,
   "id": "cd7a56ee-17a8-4522-854d-bb3f58179957",
   "metadata": {},
   "outputs": [
    {
     "data": {
      "text/plain": [
       "{'produk': 'Sepatu Sepeda Motor ALL Bike AP Boots Hujan ALLBIKE 100 Original 439 - Merah 38',\n",
       " 'harga': 'Rp54.888',\n",
       " 'rating': '4.9',\n",
       " 'penjualan': 'Terjual 27772',\n",
       " 'store': 'Depok LBS OFFICIAL STORE'}"
      ]
     },
     "execution_count": 40,
     "metadata": {},
     "output_type": "execute_result"
    }
   ],
   "source": [
    "products[0]"
   ]
  },
  {
   "cell_type": "markdown",
   "id": "8a001268-ac29-494c-bdcb-26e3e80d073d",
   "metadata": {},
   "source": [
    "# function to getData"
   ]
  },
  {
   "cell_type": "code",
   "execution_count": 41,
   "id": "1f59d9e4-06a5-44e0-b3ed-7c0c46d98bf9",
   "metadata": {},
   "outputs": [],
   "source": [
    "def getData(url,path):\n",
    "    response = requests.get(url)\n",
    "    content = response.content\n",
    "    parsed_html = html.fromstring(content)\n",
    "    data = parsed_html.xpath(path)\n",
    "    return data[0].text_content()"
   ]
  },
  {
   "cell_type": "code",
   "execution_count": 42,
   "id": "fbae8dbe-8ead-4843-9cb7-18ced0e43af2",
   "metadata": {},
   "outputs": [],
   "source": [
    "url2 = 'https://www.bukalapak.com/c/fashion-pria/sepatu-169?page=2'\n",
    "\n",
    "data2 = getData(url2,path)"
   ]
  },
  {
   "cell_type": "code",
   "execution_count": 43,
   "id": "8d2470b3-580b-4b50-a23e-a30c02fd998e",
   "metadata": {},
   "outputs": [
    {
     "data": {
      "text/plain": [
       "' \\n        Urutkan:\\n          Terlaris    52.777 barang             \\n          0\\n          \\n            Tali Sepatu/Tali Jumper Meteran Putih\\n             \\n          Rp2.250\\n           \\n              4.9\\n              \\n          Terjual 2179\\n         Malang Heaven Kaufen                \\n          0\\n          \\n            Sepatu Pria Formal Kickers Slank Sepatu Terbaru Cowok Kasual Kantor Dinas Kerja Santai Murah  Sepatu Kulit Asli Sapi Casual Pria Sneakers Terbaru\\n             \\n          Rp395.000\\n           \\n              4.9\\n              \\n          Terjual 2174\\n         Bandung Lapak_online22                \\n          0\\n          \\n            INSOLE SPORT ARCH SUPPORT PU FOAM ORTHOPEDIC PLANTAR FASCIITIS SEPATU\\n             \\n          Rp95.000\\n           \\n              4.9\\n              \\n          Terjual 2042\\n         Tangerang Need Soon                \\n          0\\n          \\n            Sepatu Boot Pria Boots Touring Casual Kulit Asli Resleting Non Safety Handmade Fordza BKS07\\n             \\n          Rp165.000\\n         \\n            Rp207.900\\n           \\n            -21%\\n            \\n              4.7\\n              \\n          Terjual 1974\\n         Kab. Bogor Fordza Shop                \\n          0\\n          \\n            sepatu converse tanpa box\\n             \\n          Rp55.000\\n           \\n              4.8\\n              \\n          Terjual 1932\\n         Tangerang dzaky sport                \\n          0\\n          \\n            Premium elastic lazy shoelace silicone - Tali sepatu silikon elastis\\n             \\n          Rp22.500\\n           \\n              4.8\\n              \\n          Terjual 1823\\n         Kab. Bandung Cipta Wholesale                \\n          0\\n          \\n            Sepatu Boot Delta 8\" - Warna Gurun\\n             \\n          Rp300.000\\n           \\n              4.7\\n              \\n          Terjual 1723\\n         Bandung Armory Indonesia                \\n          0\\n          \\n            Sepatu Pantofel Pria Semi Formal kulit asli warna hitam Fordza CBR107\\n             \\n          Rp140.000\\n         \\n            Rp174.900\\n           \\n            -20%\\n            \\n              4.8\\n              \\n          Terjual 1704\\n         Kab. Bogor Fordza Shop                \\n          0\\n          \\n            SEPATU BOOTS CROCODILE ARMOR SAFETY TOURING SEPATU GUNUNG MOTOR PRIA ORIGINAL TERBARU\\n             \\n          Rp105.000\\n           \\n              4.9\\n              \\n          Terjual 1663\\n         Bandung DM STYLE OFFICIAL SHOP                \\n          0\\n          \\n            BELI 2 PSG = 1 KG , SEPATU CONVERSE ALL STAR  LOW CUT + BOX CONVERSE\\n             \\n          Rp76.000\\n           \\n              4.6\\n              \\n          Terjual 1608\\n         Bandung Veloce 93                 \\n          0\\n          \\n            Pantofel pria kulit sapi asli hitam 190\\n             \\n          Rp115.000\\n           \\n              4.7\\n              \\n          Terjual 1600\\n         Surabaya Fitria Diah Wulansari                 \\n          0\\n          \\n            Insole Sepatu EVA Foam HONEYCOMB Anti Bau Anti Bacterial Anti Sweat\\n             \\n          Rp17.500\\n           \\n              4.9\\n              \\n          Terjual 1575\\n         Tangerang Need Soon                 \\n          0\\n          \\n            Sepatu Casual Running Nike Free Zoom Fly Knit Man Untuk Pria Cowo Black Hitam Biru Navy Merah Grey Running Joging Olah Raga Premium Import Vietnam\\n             \\n          Rp120.000\\n         \\n            Rp200.000\\n           \\n            -40%\\n            \\n              4.4\\n              \\n          Terjual 1564\\n         Depok ONE PROJECT                 \\n          0\\n          \\n            Sepatu Casual Pria Adidas Gazelle\\n             \\n          Rp120.000\\n         \\n            Rp150.000\\n           \\n            -20%\\n            \\n              4.6\\n              \\n          Terjual 1498\\n         Depok ONE PROJECT                 \\n          0\\n          \\n            Tali sepatu karet tali sepatu silikon silicon shoes karet\\n             \\n          Rp20.000\\n           \\n              4.7\\n              \\n          Terjual 1478\\n         Jakarta Barat Nick__Sport                 \\n          0\\n          \\n            Sepatu Sneakers Sneaker Pria Wanita Sepatu Casual Santai PREMIUM QUALITY\\n             \\n          Rp146.500\\n           \\n              5\\n              \\n          Terjual 1470\\n         Bandung GHAZLAN KAMILA                 \\n          0\\n          \\n            Sepatu Pria Sneaker NSA Sporty\\n             \\n          Rp50.000\\n           \\n              4.7\\n              \\n          Terjual 1451\\n         Kab. Bogor Dans Scout Shop                 \\n          0\\n          \\n            INSOLE SEPATU ALAS SEPATU MEMORY FOAM PAD FOAM\\n             \\n          Rp24.900\\n           \\n              4.9\\n              \\n          Terjual 1450\\n         Jakarta Utara Home Diaries                 \\n          0\\n          \\n            Sepatu Sneakers Sneaker Casual Pria Bisa Untuk Sepatu Sekolah Sepatu Santai KEREN\\n             \\n          Rp147.000\\n           \\n              5\\n              \\n          Terjual 1431\\n         Bandung GHAZLAN KAMILA                 \\n          0\\n          \\n            Sepatu Pantofel Kulit Terbaru Sepatu Sneakers Sale Sepatu Safety Kerja Sepatu Pria Termurah Sepatu Guru Dinas Sepatu Formal Terlaris\\n             \\n          Rp385.000\\n           \\n              5\\n              \\n          Terjual 1425\\n         Bandung Lapak_online22                 \\n          0\\n          \\n            INSOLE SEPATU SPORT PERFORMANCE OLAHRAGA SHOCK ABSORB ORTHOTIC PU FOAM\\n             \\n          Rp82.500\\n           \\n              4.9\\n              \\n          Terjual 1411\\n         Tangerang Need Soon                 \\n          0\\n          \\n            Raptor Safety shoes Black Ptl\\n             \\n          Rp89.000\\n           \\n              4.7\\n              \\n          Terjual 1375\\n         Surabaya Berkah Jaya Colletion                 \\n          0\\n          \\n            COD - SEPATU KULIT PRIA PANSUS KANTOR GEREJA PANTOPEL LOAFER MOCASSIN ASLI - COKELAT HITAM XT4T\\n             \\n          Rp175.000\\n           \\n              4.8\\n              \\n          Terjual 1309\\n         Bandung Bellionz                 \\n          0\\n          \\n            Sepatu Pria Hipzo M 35 Casual Slip On Kerja Murah Original\\n             \\n          Rp125.000\\n           \\n              4.9\\n              \\n          Terjual 1305\\n         Kab. Mojokerto Hipzo Official Shop                 \\n          0\\n          \\n            Sepatu Kickers MX One Slip On Casual Santai Formal Pria Coklat Hitam\\n             \\n          Rp84.900\\n         \\n            Rp125.000\\n           \\n            -32%\\n            \\n              4.8\\n              \\n          Terjual 1267\\n         Gresik LAPAK SEPATU SURABAYA                 \\n          0\\n          \\n            TERMURAH Sepatu Sneakers Nike Air Max Zoom Pegasus Untuk Running Olahraga Lari Pria Cowo Laki Hitam Putih Navy Merah Murah Grosir Grade Ori\\n             \\n          Rp120.000\\n         \\n            Rp200.000\\n           \\n            -40%\\n            \\n              4.6\\n              \\n          Terjual 1168\\n         Depok ONE PROJECT                 \\n          0\\n          \\n            sepatu kodachi 8111 new model.\\n             \\n          Rp110.000\\n           \\n              4.6\\n              \\n          Terjual 1143\\n         Jakarta Utara MAJU 828                 \\n          0\\n          \\n            Sepatu Safety - Sepatu Proyek - Safety Shoes\\n             \\n          Rp133.000\\n           \\n              4.9\\n              \\n          Terjual 1120\\n         Kab. Tangerang anekasepatu99                 \\n          0\\n          \\n            sepatu safety kulit sepatu kerja\\n             \\n          Rp130.000\\n           \\n              4.8\\n              \\n          Terjual 1095\\n         Sidoarjo Toko Barokah                 \\n          0\\n          \\n            Sepatu sandal selop pria\\n             \\n          Rp65.000\\n         \\n            Rp90.000\\n           \\n            -28%\\n            \\n              4.8\\n              \\n          Terjual 1079\\n         Malang Nukus Official Store         \\n      \\n        \\n    \\n    \\n          \\n            \\n              1\\n            \\n          \\n          \\n            \\n              2\\n            \\n          \\n        \\n          \\n            \\n              3\\n            \\n          \\n          \\n            \\n              4\\n            \\n          \\n          \\n            \\n              5\\n            \\n          \\n          \\n            \\n              6\\n            \\n          \\n          \\n            \\n              7\\n            \\n          \\n          \\n            \\n              8\\n            \\n          \\n          \\n            \\n              9\\n            \\n          \\n    …\\n    \\n      \\n        99\\n      \\n    \\n    \\n    \\n    \\n        \\n      \\n          \\n            Cari Sepatu di halaman lainnya\\n          \\n          \\n            \\n          \\n            \\n              21\\n            \\n          \\n        \\n          \\n            \\n              22\\n            \\n          \\n        \\n          \\n            \\n              23\\n            \\n          \\n        \\n          \\n            \\n              24\\n            \\n          \\n        \\n          \\n            \\n              25\\n            \\n          \\n        \\n          \\n            \\n              26\\n            \\n          \\n        \\n          \\n            \\n              27\\n            \\n          \\n        \\n          \\n            \\n              28\\n            \\n          \\n        \\n          \\n            \\n              29\\n            \\n          \\n        \\n          \\n            \\n              30\\n            \\n          \\n        \\n     '"
      ]
     },
     "execution_count": 43,
     "metadata": {},
     "output_type": "execute_result"
    }
   ],
   "source": [
    "data2"
   ]
  },
  {
   "cell_type": "markdown",
   "id": "b73ee093-d624-4189-bf52-8435f13d69c2",
   "metadata": {},
   "source": [
    "# fungsi to repair data(pre-processing)"
   ]
  },
  {
   "cell_type": "code",
   "execution_count": 44,
   "id": "4c887baf-adaa-41ca-b988-e892fdd9e1b4",
   "metadata": {},
   "outputs": [],
   "source": [
    "def repairData(data,split1,split2):\n",
    "    data = str(data)\n",
    "    data = data.strip()\n",
    "    part = data.split(split1)\n",
    "    data_repair = part[1]\n",
    "    data_repair = data_repair.split(split2)\n",
    "    return data_repair"
   ]
  },
  {
   "cell_type": "code",
   "execution_count": 73,
   "id": "d76fa8d0-709f-4568-82d5-056ec1e7c4c5",
   "metadata": {},
   "outputs": [],
   "source": [
    "split1 = 'Urutkan:\\n          Terlaris    52.779 barang             \\n          '\n",
    "split2 = '0\\n          \\n            '"
   ]
  },
  {
   "cell_type": "code",
   "execution_count": 49,
   "id": "54d85305-c4f7-4972-9122-569e0096676a",
   "metadata": {},
   "outputs": [],
   "source": [
    "produk_sepatu2 = repairData(data2,split1,split2)"
   ]
  },
  {
   "cell_type": "code",
   "execution_count": 57,
   "id": "4e25c3f2-3132-4f9b-94a0-29f8e72bafad",
   "metadata": {},
   "outputs": [
    {
     "data": {
      "text/plain": [
       "'Tali Sepatu/Tali Jumper Meteran Putih\\n             \\n          Rp2.250\\n           \\n              4.9\\n              \\n          Terjual 2179\\n         Malang Heaven Kaufen                \\n          '"
      ]
     },
     "execution_count": 57,
     "metadata": {},
     "output_type": "execute_result"
    }
   ],
   "source": [
    "produk_sepatu2[1]"
   ]
  },
  {
   "cell_type": "code",
   "execution_count": 53,
   "id": "ff3e9546-467c-49cc-b0ba-79fd579b31d1",
   "metadata": {},
   "outputs": [],
   "source": [
    "for item in produk_sepatu2:\n",
    "    products.append(getInfoProduk(item))"
   ]
  },
  {
   "cell_type": "code",
   "execution_count": 54,
   "id": "a84d01a1-5d73-47ae-a81c-9c2ccf452118",
   "metadata": {},
   "outputs": [],
   "source": [
    "#products[30]\n",
    "products.pop(30)"
   ]
  },
  {
   "cell_type": "code",
   "execution_count": 55,
   "id": "03d04664-a8ab-468c-8bf2-f437ee1d36b9",
   "metadata": {},
   "outputs": [
    {
     "data": {
      "text/plain": [
       "60"
      ]
     },
     "execution_count": 55,
     "metadata": {},
     "output_type": "execute_result"
    }
   ],
   "source": [
    "len(products)"
   ]
  },
  {
   "cell_type": "code",
   "execution_count": 58,
   "id": "5362f44c-476d-4376-a055-d6bbafd4fcb7",
   "metadata": {},
   "outputs": [
    {
     "data": {
      "text/plain": [
       "{'produk': 'Tali Sepatu/Tali Jumper Meteran Putih',\n",
       " 'harga': 'Rp2.250',\n",
       " 'rating': '4.9',\n",
       " 'penjualan': 'Terjual 2179',\n",
       " 'store': 'Malang Heaven Kaufen'}"
      ]
     },
     "execution_count": 58,
     "metadata": {},
     "output_type": "execute_result"
    }
   ],
   "source": [
    "products[30]"
   ]
  },
  {
   "cell_type": "markdown",
   "id": "3485a9d7-7ea5-4c70-8d75-24911b4a8c58",
   "metadata": {},
   "source": [
    "## The pattern has been found, if you want to retrieve all the data, just call the getData function"
   ]
  },
  {
   "cell_type": "code",
   "execution_count": 66,
   "id": "f98dd532-fb68-4fbe-8369-9183cfa063ba",
   "metadata": {},
   "outputs": [],
   "source": [
    "#all_data = []\n",
    "\n",
    "#sum_page = 52777/30 #summary pages\n",
    "#number_page = round(sum_page)\n",
    "\n",
    "#The range of values is taken from the last data taken\n",
    "#for i in range(3,number_page+1):\n",
    "    #url = 'https://www.bukalapak.com/c/fashion-pria/sepatu-169?page=' + str(i)\n",
    "    #all_data.append(getData(url,path))"
   ]
  },
  {
   "cell_type": "code",
   "execution_count": 67,
   "id": "7105682f-5b2b-454c-a2ce-14862cdd9c70",
   "metadata": {},
   "outputs": [],
   "source": [
    "url3 = 'https://www.bukalapak.com/c/fashion-pria/sepatu-169?page=3'\n",
    "\n",
    "data3 = getData(url3,path)"
   ]
  },
  {
   "cell_type": "code",
   "execution_count": 74,
   "id": "ed9229fb-5f21-4ff3-a46f-6f3b3fafc68e",
   "metadata": {},
   "outputs": [],
   "source": [
    "produk_sepatu3 = repairData(data3,split1,split2)"
   ]
  },
  {
   "cell_type": "code",
   "execution_count": 75,
   "id": "02c691e1-c6fa-493c-bc07-df4dca4818a4",
   "metadata": {},
   "outputs": [],
   "source": [
    "for item in produk_sepatu3:\n",
    "    products.append(getInfoProduk(item))"
   ]
  },
  {
   "cell_type": "code",
   "execution_count": 76,
   "id": "664cf328-df43-446b-b870-659dd65a4e51",
   "metadata": {},
   "outputs": [
    {
     "data": {
      "text/plain": [
       "91"
      ]
     },
     "execution_count": 76,
     "metadata": {},
     "output_type": "execute_result"
    }
   ],
   "source": [
    "len(products)"
   ]
  },
  {
   "cell_type": "code",
   "execution_count": 77,
   "id": "867b8211-73c6-4719-be84-505bd00434e5",
   "metadata": {},
   "outputs": [
    {
     "data": {
      "text/plain": [
       "'Redzeal Sepatu Sneakers Pria Jump6 Import Bahan Lentur Sol Karet\\n             \\n          Rp299.000\\n           \\n              4.7\\n              \\n          Terjual 1079\\n         Kab. Tangerang Redzeal Official Store                \\n          '"
      ]
     },
     "execution_count": 77,
     "metadata": {},
     "output_type": "execute_result"
    }
   ],
   "source": [
    "produk_sepatu3[1]"
   ]
  },
  {
   "cell_type": "code",
   "execution_count": 79,
   "id": "0e8d8ad8-d957-444e-b182-0435a032934a",
   "metadata": {},
   "outputs": [
    {
     "data": {
      "text/plain": [
       "{'produk': 'Redzeal Sepatu Sneakers Pria Jump6 Import Bahan Lentur Sol Karet',\n",
       " 'harga': 'Rp299.000',\n",
       " 'rating': '4.7',\n",
       " 'penjualan': 'Terjual 1079',\n",
       " 'store': 'Kab. Tangerang Redzeal Official Store'}"
      ]
     },
     "execution_count": 79,
     "metadata": {},
     "output_type": "execute_result"
    }
   ],
   "source": [
    "products[61]"
   ]
  },
  {
   "cell_type": "code",
   "execution_count": 80,
   "id": "75cfa11f-3077-4a10-86be-5681d52c1799",
   "metadata": {},
   "outputs": [],
   "source": [
    "#products[60]\n",
    "products.pop(60)"
   ]
  },
  {
   "cell_type": "code",
   "execution_count": 81,
   "id": "5a61d604-3c2b-4ff3-bab3-6998964d6abb",
   "metadata": {},
   "outputs": [
    {
     "data": {
      "text/plain": [
       "90"
      ]
     },
     "execution_count": 81,
     "metadata": {},
     "output_type": "execute_result"
    }
   ],
   "source": [
    "len(products)"
   ]
  },
  {
   "cell_type": "code",
   "execution_count": 83,
   "id": "69951fab-b847-4f73-9726-1cf4e10c911b",
   "metadata": {},
   "outputs": [],
   "source": [
    "url4 = 'https://www.bukalapak.com/c/fashion-pria/sepatu-169?page=4'\n",
    "\n",
    "data4 = getData(url4,path)"
   ]
  },
  {
   "cell_type": "code",
   "execution_count": 84,
   "id": "98dc5604-4b83-4171-aa6c-28a4afd78f38",
   "metadata": {},
   "outputs": [],
   "source": [
    "produk_sepatu4 = repairData(data4,split1,split2)"
   ]
  },
  {
   "cell_type": "code",
   "execution_count": 85,
   "id": "99d14862-da44-4d31-afd7-f717a58d2263",
   "metadata": {},
   "outputs": [],
   "source": [
    "for item in produk_sepatu4:\n",
    "    products.append(getInfoProduk(item))"
   ]
  },
  {
   "cell_type": "code",
   "execution_count": 87,
   "id": "036cbb46-a2eb-4f7f-97d0-8d6606b0cdd7",
   "metadata": {},
   "outputs": [
    {
     "data": {
      "text/plain": [
       "'Sepatu Tactical Delta 8in\\n             \\n          Rp290.000\\n           \\n              4.8\\n              \\n          Terjual 821\\n         Jakarta Pusat BintangShopOnline                \\n          '"
      ]
     },
     "execution_count": 87,
     "metadata": {},
     "output_type": "execute_result"
    }
   ],
   "source": [
    "produk_sepatu4[1]"
   ]
  },
  {
   "cell_type": "code",
   "execution_count": 90,
   "id": "f2e4b703-af0e-4432-9179-f0aa0150f02e",
   "metadata": {},
   "outputs": [],
   "source": [
    "#products[90]\n",
    "products.pop(90)"
   ]
  },
  {
   "cell_type": "code",
   "execution_count": 91,
   "id": "029b3c16-7728-4371-95d9-fd68fd7b1b3a",
   "metadata": {},
   "outputs": [
    {
     "data": {
      "text/plain": [
       "{'produk': 'Sepatu Tactical Delta 8in',\n",
       " 'harga': 'Rp290.000',\n",
       " 'rating': '4.8',\n",
       " 'penjualan': 'Terjual 821',\n",
       " 'store': 'Jakarta Pusat BintangShopOnline'}"
      ]
     },
     "execution_count": 91,
     "metadata": {},
     "output_type": "execute_result"
    }
   ],
   "source": [
    "products[90]"
   ]
  },
  {
   "cell_type": "code",
   "execution_count": 92,
   "id": "aa4361ab-aacf-48cd-8923-f4f16f46bf47",
   "metadata": {},
   "outputs": [
    {
     "data": {
      "text/plain": [
       "120"
      ]
     },
     "execution_count": 92,
     "metadata": {},
     "output_type": "execute_result"
    }
   ],
   "source": [
    "len(products)"
   ]
  },
  {
   "cell_type": "code",
   "execution_count": 93,
   "id": "43302aee-5dd9-4c82-89e0-27efceb35a98",
   "metadata": {},
   "outputs": [],
   "source": [
    "url5 = 'https://www.bukalapak.com/c/fashion-pria/sepatu-169?page=5'\n",
    "\n",
    "data5 = getData(url5,path)"
   ]
  },
  {
   "cell_type": "code",
   "execution_count": 94,
   "id": "234f96c5-20ca-4e7a-ae17-c6a653c28daa",
   "metadata": {},
   "outputs": [],
   "source": [
    "produk_sepatu5 = repairData(data5,split1,split2)"
   ]
  },
  {
   "cell_type": "code",
   "execution_count": 95,
   "id": "9a8d8386-74ca-43f2-99e4-2d9eec4b8814",
   "metadata": {},
   "outputs": [],
   "source": [
    "for item in produk_sepatu5:\n",
    "    products.append(getInfoProduk(item))"
   ]
  },
  {
   "cell_type": "code",
   "execution_count": 97,
   "id": "a056fdfb-4b27-4056-821e-2ed614e98321",
   "metadata": {},
   "outputs": [],
   "source": [
    "#products[120]\n",
    "products.pop(120)"
   ]
  },
  {
   "cell_type": "code",
   "execution_count": 98,
   "id": "682c1dd1-8e2d-4d63-b812-9f034d46563f",
   "metadata": {},
   "outputs": [
    {
     "data": {
      "text/plain": [
       "{'produk': 'Penambahan sol / jahit sepatu melingkar',\n",
       " 'harga': 'Rp12.000',\n",
       " 'rating': '4.6',\n",
       " 'penjualan': 'Terjual 623',\n",
       " 'store': 'Surabaya Fitria Diah Wulansari'}"
      ]
     },
     "execution_count": 98,
     "metadata": {},
     "output_type": "execute_result"
    }
   ],
   "source": [
    "products[120]"
   ]
  },
  {
   "cell_type": "code",
   "execution_count": 100,
   "id": "2826c70a-7bd1-4ab7-809c-a27de7d1ce67",
   "metadata": {},
   "outputs": [
    {
     "data": {
      "text/plain": [
       "'Penambahan sol / jahit sepatu melingkar\\n             \\n          Rp12.000\\n           \\n              4.6\\n              \\n          Terjual 623\\n         Surabaya Fitria Diah Wulansari                \\n          '"
      ]
     },
     "execution_count": 100,
     "metadata": {},
     "output_type": "execute_result"
    }
   ],
   "source": [
    "produk_sepatu5[1]"
   ]
  },
  {
   "cell_type": "code",
   "execution_count": 101,
   "id": "a962e99c-bab6-4dcf-8e5c-8e04022e1f48",
   "metadata": {},
   "outputs": [
    {
     "data": {
      "text/plain": [
       "150"
      ]
     },
     "execution_count": 101,
     "metadata": {},
     "output_type": "execute_result"
    }
   ],
   "source": [
    "len(products)"
   ]
  },
  {
   "cell_type": "code",
   "execution_count": 103,
   "id": "5379cf24-e314-4f55-8539-0eacb13a52ba",
   "metadata": {},
   "outputs": [
    {
     "data": {
      "text/plain": [
       "{'produk': 'Shoe Pad Silicone Alas Kaki Sepatu Gel Insole Empuk Sepatu Sneaker Anti Bau',\n",
       " 'harga': '4.9',\n",
       " 'rating': '',\n",
       " 'penjualan': '',\n",
       " 'store': ''}"
      ]
     },
     "execution_count": 103,
     "metadata": {},
     "output_type": "execute_result"
    }
   ],
   "source": [
    "products[149]"
   ]
  },
  {
   "cell_type": "markdown",
   "id": "fc908c86-f304-469d-8c91-65e93e906015",
   "metadata": {},
   "source": [
    "## tries to calculate errors to ensure the data taken is clean"
   ]
  },
  {
   "cell_type": "code",
   "execution_count": 115,
   "id": "c621ee41-6d76-4adb-ad01-b7978b0ef496",
   "metadata": {},
   "outputs": [],
   "source": [
    "count_err = 0\n",
    "index_err = []\n",
    "for i in range(len(products)):\n",
    "    if products[i]['produk'] == '' or products[i]['harga'] == '' or products[i]['rating'] == '' or products[i]['penjualan'] == '' or products[i]['store'] == '':\n",
    "        count_err += 1\n",
    "        index_err.append(i)"
   ]
  },
  {
   "cell_type": "code",
   "execution_count": 118,
   "id": "bda3491f-f805-4743-aefe-076c6109819a",
   "metadata": {},
   "outputs": [
    {
     "name": "stdout",
     "output_type": "stream",
     "text": [
      "2\n",
      "[89, 149]\n"
     ]
    }
   ],
   "source": [
    "print(count_err)\n",
    "print(index_err)"
   ]
  },
  {
   "cell_type": "code",
   "execution_count": 119,
   "id": "c119a759-2122-4f3d-aa3a-0975b25dfe35",
   "metadata": {},
   "outputs": [
    {
     "data": {
      "text/plain": [
       "{'produk': 'Sepatu Pantofel Pria Sepatu Kickers Sepatu Formal Kerja',\n",
       " 'harga': '4.7',\n",
       " 'rating': '',\n",
       " 'penjualan': '',\n",
       " 'store': ''}"
      ]
     },
     "execution_count": 119,
     "metadata": {},
     "output_type": "execute_result"
    }
   ],
   "source": [
    "products[89]"
   ]
  },
  {
   "cell_type": "code",
   "execution_count": 130,
   "id": "86bff441-bf0e-4b7b-8759-af237c9f45cf",
   "metadata": {},
   "outputs": [],
   "source": [
    "#print(produk_sepatu3[30])\n",
    "#print(produk_sepatu5[30])"
   ]
  },
  {
   "cell_type": "code",
   "execution_count": 123,
   "id": "f394767f-cd9c-43e2-8458-2ce611efa042",
   "metadata": {},
   "outputs": [],
   "source": [
    "products[89]['harga'] = 'Rp71.476'\n",
    "products[89]['rating'] = '4.7'\n",
    "products[89]['penjualan'] = 'Terjual 826'\n",
    "products[89]['store'] = 'Kab. Bandung Jadda Shoes'"
   ]
  },
  {
   "cell_type": "code",
   "execution_count": 124,
   "id": "5733bd07-bc63-4b14-898b-3b917e268799",
   "metadata": {},
   "outputs": [],
   "source": [
    "products[149]['harga'] = 'Rp13.900'\n",
    "products[149]['rating'] = '4.9'\n",
    "products[149]['penjualan'] = 'Terjual 511'\n",
    "products[149]['store'] = 'Jakarta Utara bursa cosmetik murah'"
   ]
  },
  {
   "cell_type": "code",
   "execution_count": 125,
   "id": "50c9d3f6-04b3-43c7-bc19-2c63e7c9aeaa",
   "metadata": {},
   "outputs": [],
   "source": [
    "## try again to calculate error\n",
    "count_err = 0\n",
    "index_err = []\n",
    "for i in range(len(products)):\n",
    "    if products[i]['produk'] == '' or products[i]['harga'] == '' or products[i]['rating'] == '' or products[i]['penjualan'] == '' or products[i]['store'] == '':\n",
    "        count_err += 1\n",
    "        index_err.append(i)"
   ]
  },
  {
   "cell_type": "code",
   "execution_count": 127,
   "id": "61aa9a0f-d4ac-4575-8627-7f4a5688eeaa",
   "metadata": {},
   "outputs": [
    {
     "name": "stdout",
     "output_type": "stream",
     "text": [
      "0\n",
      "[]\n"
     ]
    }
   ],
   "source": [
    "print(count_err)\n",
    "print(index_err)"
   ]
  },
  {
   "cell_type": "code",
   "execution_count": 128,
   "id": "6ba284f4-b8b1-4500-9dc6-8b3a19f6e357",
   "metadata": {},
   "outputs": [],
   "source": [
    "# Once you are sure the data is clean, save it into a CSV file\n",
    "\n",
    "import pandas as pd"
   ]
  },
  {
   "cell_type": "code",
   "execution_count": 129,
   "id": "59c9380d-6c24-46b8-adf6-30e81f969f33",
   "metadata": {},
   "outputs": [],
   "source": [
    "df = pd.DataFrame(products)\n",
    "df.to_csv('data_product.csv', index=False)"
   ]
  }
 ],
 "metadata": {
  "kernelspec": {
   "display_name": "Python 3 (ipykernel)",
   "language": "python",
   "name": "python3"
  },
  "language_info": {
   "codemirror_mode": {
    "name": "ipython",
    "version": 3
   },
   "file_extension": ".py",
   "mimetype": "text/x-python",
   "name": "python",
   "nbconvert_exporter": "python",
   "pygments_lexer": "ipython3",
   "version": "3.9.18"
  }
 },
 "nbformat": 4,
 "nbformat_minor": 5
}
