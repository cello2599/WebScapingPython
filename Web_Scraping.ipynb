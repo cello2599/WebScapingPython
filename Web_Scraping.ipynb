{
 "cells": [
  {
   "cell_type": "code",
   "execution_count": 1,
   "id": "755faad3-a227-4a00-aee9-28bfc5790552",
   "metadata": {},
   "outputs": [],
   "source": [
    "import requests\n",
    "from lxml import html"
   ]
  },
  {
   "cell_type": "code",
   "execution_count": 2,
   "id": "c50f5276-b787-45f4-9545-83a933204d43",
   "metadata": {},
   "outputs": [],
   "source": [
    "url = 'https://www.bukalapak.com/c/fashion-pria/sepatu-169?'"
   ]
  },
  {
   "cell_type": "code",
   "execution_count": 3,
   "id": "b76b98aa-f046-445d-8f5b-1d19be8d7717",
   "metadata": {},
   "outputs": [
    {
     "data": {
      "text/plain": [
       "<Response [200]>"
      ]
     },
     "execution_count": 3,
     "metadata": {},
     "output_type": "execute_result"
    }
   ],
   "source": [
    "response = requests.get(url)\n",
    "response"
   ]
  },
  {
   "cell_type": "code",
   "execution_count": 4,
   "id": "fcd9b59a-9cd4-46d7-94ee-dd649e7ecb21",
   "metadata": {},
   "outputs": [],
   "source": [
    "content = response.content\n",
    "parsed_content = html.fromstring(content)"
   ]
  },
  {
   "cell_type": "code",
   "execution_count": 5,
   "id": "1a2f21ec-8ccb-44f4-8f3c-4ada3909bf1d",
   "metadata": {},
   "outputs": [],
   "source": [
    "path = '//*[@id=\"product-explorer-container\"]/div/div[1]/div[2]/div/div[2]'"
   ]
  },
  {
   "cell_type": "code",
   "execution_count": 6,
   "id": "474e433c-762a-46f2-9075-ad85eec941d0",
   "metadata": {},
   "outputs": [],
   "source": [
    "sepatu = parsed_content.xpath(path)\n",
    "\n",
    "#//*[@id=\"product-explorer-container\"]/div/div[1]/div[2]/div/div[2]/div[3]\n",
    "#//*[@id=\"product-explorer-container\"]/div/div[1]/div[2]/div/div[2]/div[3]/div\n",
    "#//*[@id=\"product-explorer-container\"]/div/div[1]/div[2]/div/div[2]/div[3]/div/div[1]\n",
    "#//*[@id=\"product-explorer-container\"]/div/div[1]/div[2]/div/div[2]/div[3]/div/div[1]/div/div/div[2]"
   ]
  },
  {
   "cell_type": "code",
   "execution_count": 7,
   "id": "e4ad5fdf-6c68-423e-8a56-a27612065f50",
   "metadata": {},
   "outputs": [],
   "source": [
    "data_sepatu = sepatu[0].text_content()"
   ]
  },
  {
   "cell_type": "code",
   "execution_count": 8,
   "id": "0f3b3365-6a57-494a-ba4e-2da57ea6c33f",
   "metadata": {},
   "outputs": [
    {
     "data": {
      "text/plain": [
       "' \\n        Urutkan:\\n          Terlaris    52.744 barang             \\n          0\\n          \\n            Sepatu Sepeda Motor ALL Bike AP Boots Hujan ALLBIKE 100 Original 439 - Merah 38\\n             \\n          Rp54.888\\n           \\n              4.9\\n              \\n          Terjual 27772\\n         Depok LBS OFFICIAL STORE                \\n          0\\n          \\n            Tali sepatu\\n             \\n          Rp700\\n           \\n              4.9\\n              \\n          Terjual 8882\\n         Bogor Indra _ jaket _ Cimanggu                \\n          0\\n          \\n            Tali Sepatu Oval panjang satu meter\\n             \\n          Rp800\\n           \\n              4.8\\n              \\n          Terjual 7477\\n         Bogor Indra _ jaket _ Cimanggu                \\n          0\\n          \\n            Sepatu converse all star  + box\\n             \\n          Rp123.500\\n           \\n              4.5\\n              \\n          Terjual 7476\\n         Kab. Tangerang Star Shoes                \\n          0\\n          \\n            Sepatu Adidas Slip On Casual\\n             \\n          Rp70.000\\n           \\n              4.4\\n              \\n          Terjual 5164\\n         Kab. Bandung Rezeki                \\n          0\\n          \\n            ALAS  SEPATU atau BUSA ALAS DALAM SEPATU INSOLE\\n             \\n          Rp4.000\\n           \\n              4.8\\n              \\n          Terjual 5102\\n         Kab. Bogor wiwik nanang                \\n          0\\n          \\n            Sepatu Safety - Safety Low Boots - Sepatu Kerja Safety Industry Proyek Safety Shoes Premium\\n             \\n          Rp135.000\\n           \\n              4.9\\n              \\n          Terjual 4564\\n         Kab. Tangerang Seven Point Store                \\n          0\\n          \\n            COD - SEPATU PANTOFEL MOCASSIN PRIA KULIT ASLI - HITAM COKELAT\\n             \\n          Rp135.000\\n           \\n              4.7\\n              \\n          Terjual 4463\\n         Bandung Bellionz                \\n          0\\n          \\n            Tali Sepatu/Tali Jumper Meteran Hitam\\n             \\n          Rp2.250\\n           \\n              4.8\\n              \\n          Terjual 4394\\n         Malang Heaven Kaufen                \\n          0\\n          \\n            Sepatu Sneakers Sneaker Pria Wanita Casual Sepatu Kerja Sekolah Olahraga Running Lari Import Original\\n             \\n          Rp159.000\\n         \\n            Rp228.000\\n           \\n            -30%\\n            \\n              5\\n              \\n          Terjual 4262\\n         Jakarta Pusat White Stone                 \\n          0\\n          \\n            Sepatu Sneakers Sneaker Pria Wanita Sepatu Running Lari Olahraga Casual Kets\\n             \\n          Rp159.000\\n         \\n            Rp229.000\\n           \\n            -31%\\n            \\n              5\\n              \\n          Terjual 4253\\n         Jakarta Pusat White Stone                 \\n          0\\n          \\n            COD - SEPATU KULIT PRIA CASUAL - SEPATU KANTOR PRIA CASUAL - PANSUS HITAM COKELAT XT4Y\\n             \\n          Rp345.000\\n           \\n              5\\n              \\n          Terjual 4010\\n         Bandung Bellionz                 \\n          0\\n          \\n            Sepatu Original Pria Hipzo M 033 Badminton Olahraga Sekolah Kerja Sepatu Sneakers Ori\\n             \\n          Rp95.000\\n           \\n              4.8\\n              \\n          Terjual 4005\\n         Kab. Mojokerto Hipzo Official Shop                 \\n          0\\n          \\n            Sepatu Karet Pria - Pantofel - Sepatu Kerja - Sepatu Formal C\\n             \\n          Rp32.400\\n         \\n            Rp58.000\\n           \\n            -44%\\n            \\n              4.8\\n              \\n          Terjual 3960\\n         Jakarta Selatan 89stories                 \\n          0\\n          \\n            ORTHOPEDIC SILICON GEL INSOLE FULL SHOE SPORT INSERT PAD ALAS SEPATU\\n             \\n          Rp50.000\\n           \\n              4.9\\n              \\n          Terjual 3908\\n         Tangerang Need Soon                 \\n          0\\n          \\n            Sepatu AP Hobby N Work Boots Kerja By AP BOOT Pendek Pvc Waterproof - Hitam 40\\n             \\n          Rp64.888\\n           \\n              4.9\\n              \\n          Terjual 3794\\n         Depok LBS OFFICIAL STORE                 \\n          0\\n          \\n            Sepatu Sneakers Pria Wanita Sepatu Kets Casual Running Lari Olahraga Sport\\n             \\n          Rp169.000\\n         \\n            Rp298.000\\n           \\n            -43%\\n            \\n              5\\n              \\n          Terjual 3688\\n         Jakarta Pusat White Stone                 \\n          0\\n          \\n            TALI SEPATU BULAT LORENG\\n             \\n          Rp1.800\\n           \\n              4.8\\n              \\n          Terjual 3654\\n         Kab. Bogor wiwik nanang                 \\n          0\\n          \\n            SEPATU SAFETY CUSTOM\\n             \\n          Rp95.000\\n           \\n              4.8\\n              \\n          Terjual 3614\\n         Bandung Jakober_Store                 \\n          0\\n          \\n            Sepatu Pria Hipzo M 039 Formal Sneakers Original NEW\\n             \\n          Rp120.000\\n           \\n              4.9\\n              \\n          Terjual 3515\\n         Kab. Mojokerto Hipzo Official Shop                 \\n          0\\n          \\n            Sepatu Sneakers Sneaker Pria Wanita Sepatu Kerja Sekolah Casual Santai Sepatu Kets Olahraga Running Lari Original\\n             \\n          Rp149.000\\n         \\n            Rp199.000\\n           \\n            -25%\\n            \\n              5\\n              \\n          Terjual 3306\\n         Jakarta Pusat White Stone                 \\n          0\\n          \\n            Sepatu Safety bahan kulit sapi asli\\n             \\n          Rp110.000\\n           \\n              4.7\\n              \\n          Terjual 3174\\n         Surabaya Fitria Diah Wulansari                 \\n          0\\n          \\n            Sepatu Pantofel Kulit Sapi pria jaminan uang kembali jika bukan kulit 174\\n             \\n          Rp115.000\\n           \\n              4.7\\n              \\n          Terjual 3134\\n         Surabaya Fitria Diah Wulansari                 \\n          0\\n          \\n            Sepatu safety boot kulit sapi asli jaminan uang kembali jika bukan kulit.\\n             \\n          Rp130.000\\n           \\n              4.6\\n              \\n          Terjual 3101\\n         Surabaya Fitria Diah Wulansari                 \\n          0\\n          \\n            Sepatu Pria Safety BESI Hipzo M 41 Original 100 Untuk Pria Kerja Proyek\\n             \\n          Rp140.000\\n           \\n              4.9\\n              \\n          Terjual 2849\\n         Kab. Mojokerto Hipzo Official Shop                 \\n          0\\n          \\n            INSOLE ARCH SUPPORT FLAT FOOT ORTHOPEDIC ORTHOTIC TEBAL 3CM ALAS KAKI\\n             \\n          Rp41.500\\n           \\n              4.9\\n              \\n          Terjual 2845\\n         Tangerang Need Soon                 \\n          0\\n          \\n            Sepatu pantofel pria kulit sapi asli gak kulit uang kembali 178\\n             \\n          Rp115.000\\n           \\n              4.8\\n              \\n          Terjual 2795\\n         Surabaya Fitria Diah Wulansari                 \\n          0\\n          \\n            INSOLE ORTHOTIC SPORT SHOCK ABSORBING SEPATU OLAHRAGA BREATABLE MESH\\n             \\n          Rp79.500\\n           \\n              4.9\\n              \\n          Terjual 2792\\n         Tangerang Need Soon                 \\n          0\\n          \\n            Sepatu Safety Bahan Kulit Ujung Besi Sepatu Tali\\n             \\n          Rp90.000\\n           \\n              5\\n              \\n          Terjual 2600\\n         Bandung Jakober_Store                 \\n          0\\n          \\n            Sepatu Sneakers Sneaker Pria Wanita Sepatu Kerja Sekolah Casual Sepatu Kets Olahraga Running Lari\\n             \\n          Rp149.000\\n         \\n            Rp199.000\\n           \\n            -25%\\n            \\n              5\\n              \\n          Terjual 2261\\n         Jakarta Pusat White Stone         \\n      \\n        \\n          \\n            \\n              1\\n            \\n          \\n        \\n          \\n            \\n              2\\n            \\n          \\n          \\n            \\n              3\\n            \\n          \\n          \\n            \\n              4\\n            \\n          \\n          \\n            \\n              5\\n            \\n          \\n          \\n            \\n              6\\n            \\n          \\n          \\n            \\n              7\\n            \\n          \\n          \\n            \\n              8\\n            \\n          \\n          \\n            \\n              9\\n            \\n          \\n    …\\n    \\n      \\n        99\\n      \\n    \\n    \\n    \\n    \\n        \\n      \\n          \\n            Cari Sepatu di halaman lainnya\\n          \\n          \\n            \\n          \\n            \\n              11\\n            \\n          \\n        \\n          \\n            \\n              12\\n            \\n          \\n        \\n          \\n            \\n              13\\n            \\n          \\n        \\n          \\n            \\n              14\\n            \\n          \\n        \\n          \\n            \\n              15\\n            \\n          \\n        \\n          \\n            \\n              16\\n            \\n          \\n        \\n          \\n            \\n              17\\n            \\n          \\n        \\n          \\n            \\n              18\\n            \\n          \\n        \\n          \\n            \\n              19\\n            \\n          \\n        \\n          \\n            \\n              20\\n            \\n          \\n        \\n     '"
      ]
     },
     "execution_count": 8,
     "metadata": {},
     "output_type": "execute_result"
    }
   ],
   "source": [
    "data_sepatu"
   ]
  },
  {
   "cell_type": "code",
   "execution_count": 9,
   "id": "d02e79d7-9ec7-489b-9176-1cdef79dfa27",
   "metadata": {},
   "outputs": [],
   "source": [
    "data_sepatu = str(data_sepatu)\n",
    "data_sepatu = data_sepatu.strip()"
   ]
  },
  {
   "cell_type": "code",
   "execution_count": 10,
   "id": "515de4db-42b6-4602-ba5d-62fcee415e14",
   "metadata": {},
   "outputs": [
    {
     "data": {
      "text/plain": [
       "'Urutkan:\\n          Terlaris    52.744 barang             \\n          0\\n          \\n            Sepatu Sepeda Motor ALL Bike AP Boots Hujan ALLBIKE 100 Original 439 - Merah 38\\n             \\n          Rp54.888\\n           \\n              4.9\\n              \\n          Terjual 27772\\n         Depok LBS OFFICIAL STORE                \\n          0\\n          \\n            Tali sepatu\\n             \\n          Rp700\\n           \\n              4.9\\n              \\n          Terjual 8882\\n         Bogor Indra _ jaket _ Cimanggu                \\n          0\\n          \\n            Tali Sepatu Oval panjang satu meter\\n             \\n          Rp800\\n           \\n              4.8\\n              \\n          Terjual 7477\\n         Bogor Indra _ jaket _ Cimanggu                \\n          0\\n          \\n            Sepatu converse all star  + box\\n             \\n          Rp123.500\\n           \\n              4.5\\n              \\n          Terjual 7476\\n         Kab. Tangerang Star Shoes                \\n          0\\n          \\n            Sepatu Adidas Slip On Casual\\n             \\n          Rp70.000\\n           \\n              4.4\\n              \\n          Terjual 5164\\n         Kab. Bandung Rezeki                \\n          0\\n          \\n            ALAS  SEPATU atau BUSA ALAS DALAM SEPATU INSOLE\\n             \\n          Rp4.000\\n           \\n              4.8\\n              \\n          Terjual 5102\\n         Kab. Bogor wiwik nanang                \\n          0\\n          \\n            Sepatu Safety - Safety Low Boots - Sepatu Kerja Safety Industry Proyek Safety Shoes Premium\\n             \\n          Rp135.000\\n           \\n              4.9\\n              \\n          Terjual 4564\\n         Kab. Tangerang Seven Point Store                \\n          0\\n          \\n            COD - SEPATU PANTOFEL MOCASSIN PRIA KULIT ASLI - HITAM COKELAT\\n             \\n          Rp135.000\\n           \\n              4.7\\n              \\n          Terjual 4463\\n         Bandung Bellionz                \\n          0\\n          \\n            Tali Sepatu/Tali Jumper Meteran Hitam\\n             \\n          Rp2.250\\n           \\n              4.8\\n              \\n          Terjual 4394\\n         Malang Heaven Kaufen                \\n          0\\n          \\n            Sepatu Sneakers Sneaker Pria Wanita Casual Sepatu Kerja Sekolah Olahraga Running Lari Import Original\\n             \\n          Rp159.000\\n         \\n            Rp228.000\\n           \\n            -30%\\n            \\n              5\\n              \\n          Terjual 4262\\n         Jakarta Pusat White Stone                 \\n          0\\n          \\n            Sepatu Sneakers Sneaker Pria Wanita Sepatu Running Lari Olahraga Casual Kets\\n             \\n          Rp159.000\\n         \\n            Rp229.000\\n           \\n            -31%\\n            \\n              5\\n              \\n          Terjual 4253\\n         Jakarta Pusat White Stone                 \\n          0\\n          \\n            COD - SEPATU KULIT PRIA CASUAL - SEPATU KANTOR PRIA CASUAL - PANSUS HITAM COKELAT XT4Y\\n             \\n          Rp345.000\\n           \\n              5\\n              \\n          Terjual 4010\\n         Bandung Bellionz                 \\n          0\\n          \\n            Sepatu Original Pria Hipzo M 033 Badminton Olahraga Sekolah Kerja Sepatu Sneakers Ori\\n             \\n          Rp95.000\\n           \\n              4.8\\n              \\n          Terjual 4005\\n         Kab. Mojokerto Hipzo Official Shop                 \\n          0\\n          \\n            Sepatu Karet Pria - Pantofel - Sepatu Kerja - Sepatu Formal C\\n             \\n          Rp32.400\\n         \\n            Rp58.000\\n           \\n            -44%\\n            \\n              4.8\\n              \\n          Terjual 3960\\n         Jakarta Selatan 89stories                 \\n          0\\n          \\n            ORTHOPEDIC SILICON GEL INSOLE FULL SHOE SPORT INSERT PAD ALAS SEPATU\\n             \\n          Rp50.000\\n           \\n              4.9\\n              \\n          Terjual 3908\\n         Tangerang Need Soon                 \\n          0\\n          \\n            Sepatu AP Hobby N Work Boots Kerja By AP BOOT Pendek Pvc Waterproof - Hitam 40\\n             \\n          Rp64.888\\n           \\n              4.9\\n              \\n          Terjual 3794\\n         Depok LBS OFFICIAL STORE                 \\n          0\\n          \\n            Sepatu Sneakers Pria Wanita Sepatu Kets Casual Running Lari Olahraga Sport\\n             \\n          Rp169.000\\n         \\n            Rp298.000\\n           \\n            -43%\\n            \\n              5\\n              \\n          Terjual 3688\\n         Jakarta Pusat White Stone                 \\n          0\\n          \\n            TALI SEPATU BULAT LORENG\\n             \\n          Rp1.800\\n           \\n              4.8\\n              \\n          Terjual 3654\\n         Kab. Bogor wiwik nanang                 \\n          0\\n          \\n            SEPATU SAFETY CUSTOM\\n             \\n          Rp95.000\\n           \\n              4.8\\n              \\n          Terjual 3614\\n         Bandung Jakober_Store                 \\n          0\\n          \\n            Sepatu Pria Hipzo M 039 Formal Sneakers Original NEW\\n             \\n          Rp120.000\\n           \\n              4.9\\n              \\n          Terjual 3515\\n         Kab. Mojokerto Hipzo Official Shop                 \\n          0\\n          \\n            Sepatu Sneakers Sneaker Pria Wanita Sepatu Kerja Sekolah Casual Santai Sepatu Kets Olahraga Running Lari Original\\n             \\n          Rp149.000\\n         \\n            Rp199.000\\n           \\n            -25%\\n            \\n              5\\n              \\n          Terjual 3306\\n         Jakarta Pusat White Stone                 \\n          0\\n          \\n            Sepatu Safety bahan kulit sapi asli\\n             \\n          Rp110.000\\n           \\n              4.7\\n              \\n          Terjual 3174\\n         Surabaya Fitria Diah Wulansari                 \\n          0\\n          \\n            Sepatu Pantofel Kulit Sapi pria jaminan uang kembali jika bukan kulit 174\\n             \\n          Rp115.000\\n           \\n              4.7\\n              \\n          Terjual 3134\\n         Surabaya Fitria Diah Wulansari                 \\n          0\\n          \\n            Sepatu safety boot kulit sapi asli jaminan uang kembali jika bukan kulit.\\n             \\n          Rp130.000\\n           \\n              4.6\\n              \\n          Terjual 3101\\n         Surabaya Fitria Diah Wulansari                 \\n          0\\n          \\n            Sepatu Pria Safety BESI Hipzo M 41 Original 100 Untuk Pria Kerja Proyek\\n             \\n          Rp140.000\\n           \\n              4.9\\n              \\n          Terjual 2849\\n         Kab. Mojokerto Hipzo Official Shop                 \\n          0\\n          \\n            INSOLE ARCH SUPPORT FLAT FOOT ORTHOPEDIC ORTHOTIC TEBAL 3CM ALAS KAKI\\n             \\n          Rp41.500\\n           \\n              4.9\\n              \\n          Terjual 2845\\n         Tangerang Need Soon                 \\n          0\\n          \\n            Sepatu pantofel pria kulit sapi asli gak kulit uang kembali 178\\n             \\n          Rp115.000\\n           \\n              4.8\\n              \\n          Terjual 2795\\n         Surabaya Fitria Diah Wulansari                 \\n          0\\n          \\n            INSOLE ORTHOTIC SPORT SHOCK ABSORBING SEPATU OLAHRAGA BREATABLE MESH\\n             \\n          Rp79.500\\n           \\n              4.9\\n              \\n          Terjual 2792\\n         Tangerang Need Soon                 \\n          0\\n          \\n            Sepatu Safety Bahan Kulit Ujung Besi Sepatu Tali\\n             \\n          Rp90.000\\n           \\n              5\\n              \\n          Terjual 2600\\n         Bandung Jakober_Store                 \\n          0\\n          \\n            Sepatu Sneakers Sneaker Pria Wanita Sepatu Kerja Sekolah Casual Sepatu Kets Olahraga Running Lari\\n             \\n          Rp149.000\\n         \\n            Rp199.000\\n           \\n            -25%\\n            \\n              5\\n              \\n          Terjual 2261\\n         Jakarta Pusat White Stone         \\n      \\n        \\n          \\n            \\n              1\\n            \\n          \\n        \\n          \\n            \\n              2\\n            \\n          \\n          \\n            \\n              3\\n            \\n          \\n          \\n            \\n              4\\n            \\n          \\n          \\n            \\n              5\\n            \\n          \\n          \\n            \\n              6\\n            \\n          \\n          \\n            \\n              7\\n            \\n          \\n          \\n            \\n              8\\n            \\n          \\n          \\n            \\n              9\\n            \\n          \\n    …\\n    \\n      \\n        99\\n      \\n    \\n    \\n    \\n    \\n        \\n      \\n          \\n            Cari Sepatu di halaman lainnya\\n          \\n          \\n            \\n          \\n            \\n              11\\n            \\n          \\n        \\n          \\n            \\n              12\\n            \\n          \\n        \\n          \\n            \\n              13\\n            \\n          \\n        \\n          \\n            \\n              14\\n            \\n          \\n        \\n          \\n            \\n              15\\n            \\n          \\n        \\n          \\n            \\n              16\\n            \\n          \\n        \\n          \\n            \\n              17\\n            \\n          \\n        \\n          \\n            \\n              18\\n            \\n          \\n        \\n          \\n            \\n              19\\n            \\n          \\n        \\n          \\n            \\n              20'"
      ]
     },
     "execution_count": 10,
     "metadata": {},
     "output_type": "execute_result"
    }
   ],
   "source": [
    "data_sepatu"
   ]
  },
  {
   "cell_type": "code",
   "execution_count": 11,
   "id": "5a731bd1-a959-4fc6-814f-b7bd2004110c",
   "metadata": {},
   "outputs": [],
   "source": [
    "separator = 'Urutkan:\\n          Terlaris    52.744 barang             \\n          '\n",
    "parts = data_sepatu.split(separator)"
   ]
  },
  {
   "cell_type": "code",
   "execution_count": 17,
   "id": "2138a4ed-b883-4ad0-a175-e94fc67c5fbf",
   "metadata": {},
   "outputs": [],
   "source": [
    "produk_sepatu = parts[1]\n",
    "#produk_sepatu"
   ]
  },
  {
   "cell_type": "code",
   "execution_count": 18,
   "id": "a7ff6bbc-e553-4e7e-ad08-36630cd8ad3b",
   "metadata": {},
   "outputs": [],
   "source": [
    "produk_sepatu = produk_sepatu.split('0\\n          \\n            ')\n",
    "#produk_sepatu"
   ]
  },
  {
   "cell_type": "code",
   "execution_count": 24,
   "id": "83aca5e1-f78f-4842-ad30-b675240af415",
   "metadata": {},
   "outputs": [
    {
     "data": {
      "text/plain": [
       "['Sepatu Sepeda Motor ALL Bike AP Boots Hujan ALLBIKE 100 Original 439 - Merah 38',\n",
       " '             ',\n",
       " '          Rp54.888',\n",
       " '           ',\n",
       " '              4.9',\n",
       " '              ',\n",
       " '          Terjual 27772',\n",
       " '         Depok LBS OFFICIAL STORE']"
      ]
     },
     "execution_count": 24,
     "metadata": {},
     "output_type": "execute_result"
    }
   ],
   "source": [
    "data1 = produk_sepatu[1].strip().split('\\n')\n",
    "data1"
   ]
  },
  {
   "cell_type": "code",
   "execution_count": 25,
   "id": "47d9330d-aa1d-4fa6-b765-630ecda8bb25",
   "metadata": {},
   "outputs": [
    {
     "data": {
      "text/plain": [
       "['Sepatu Sneakers Sneaker Pria Wanita Casual Sepatu Kerja Sekolah Olahraga Running Lari Import Original',\n",
       " '             ',\n",
       " '          Rp159.000',\n",
       " '         ',\n",
       " '            Rp228.000',\n",
       " '           ',\n",
       " '            -30%',\n",
       " '            ',\n",
       " '              5',\n",
       " '              ',\n",
       " '          Terjual 4262',\n",
       " '         Jakarta Pusat White Stone']"
      ]
     },
     "execution_count": 25,
     "metadata": {},
     "output_type": "execute_result"
    }
   ],
   "source": [
    "data2 = produk_sepatu[10].strip().split('\\n')\n",
    "data2"
   ]
  },
  {
   "cell_type": "code",
   "execution_count": 26,
   "id": "866691a4-f526-430a-a63d-f34fc05acad2",
   "metadata": {},
   "outputs": [
    {
     "name": "stdout",
     "output_type": "stream",
     "text": [
      "8\n",
      "12\n"
     ]
    }
   ],
   "source": [
    "print(len(data1))\n",
    "print(len(data2))"
   ]
  },
  {
   "cell_type": "code",
   "execution_count": 27,
   "id": "18175c00-7e05-46f3-86d2-210460bfbad5",
   "metadata": {},
   "outputs": [],
   "source": [
    "array = []\n",
    "\n",
    "for i in data1:\n",
    "    array.append(i)"
   ]
  },
  {
   "cell_type": "code",
   "execution_count": 42,
   "id": "664d7b95-3674-45ae-aa7c-6a852727d2cc",
   "metadata": {},
   "outputs": [
    {
     "data": {
      "text/plain": [
       "'Rp54.888'"
      ]
     },
     "execution_count": 42,
     "metadata": {},
     "output_type": "execute_result"
    }
   ],
   "source": [
    "array[2].strip()"
   ]
  },
  {
   "cell_type": "code",
   "execution_count": 29,
   "id": "d531de2c-7877-4543-8a70-9dc85543580c",
   "metadata": {},
   "outputs": [],
   "source": [
    "array2 = []\n",
    "\n",
    "for i in data2:\n",
    "    array2.append(i)"
   ]
  },
  {
   "cell_type": "code",
   "execution_count": 39,
   "id": "7e4e07f0-3381-4bb2-9dea-82f6d0b6c359",
   "metadata": {},
   "outputs": [
    {
     "data": {
      "text/plain": [
       "'Jakarta Pusat White Stone'"
      ]
     },
     "execution_count": 39,
     "metadata": {},
     "output_type": "execute_result"
    }
   ],
   "source": [
    "array2[11].strip()"
   ]
  },
  {
   "cell_type": "markdown",
   "id": "6a5b8d93-b924-4da6-9667-a324266b1115",
   "metadata": {},
   "source": [
    "# fungsi untuk melakukan mapping data produk setelah diperbaiki"
   ]
  },
  {
   "cell_type": "code",
   "execution_count": 43,
   "id": "1a8a848b-bdfb-4289-a060-1d7f9e989be6",
   "metadata": {},
   "outputs": [],
   "source": [
    "def getInfoProduk(item):\n",
    "    if item.strip():\n",
    "        lines = item.strip().split('\\n')\n",
    "        if len(lines) > 8:\n",
    "            produk = {\n",
    "                'produk' : lines[0].strip(),\n",
    "                'harga' : lines[4].strip(),\n",
    "                'rating' : lines[8].strip(),\n",
    "                'penjualan' : lines[10].strip(),\n",
    "                'store': lines[11].strip()\n",
    "            }\n",
    "        else :\n",
    "            produk = {\n",
    "                'produk': lines[0].strip(),\n",
    "                'harga' : lines[2].strip(),\n",
    "                'rating' : lines[4].strip(),\n",
    "                'penjualan' : lines[6].strip(),\n",
    "                'store': lines[7].strip()\n",
    "            }\n",
    "        return produk"
   ]
  },
  {
   "cell_type": "code",
   "execution_count": 44,
   "id": "efd2e658-9291-4479-a570-cdf26fb82c55",
   "metadata": {},
   "outputs": [],
   "source": [
    "products = []\n",
    "\n",
    "for i in produk_sepatu:\n",
    "    products.append(getInfoProduk(i))"
   ]
  },
  {
   "cell_type": "code",
   "execution_count": 45,
   "id": "bcbdabb5-7339-4472-80ba-92ef243adf58",
   "metadata": {},
   "outputs": [
    {
     "data": {
      "text/plain": [
       "[None,\n",
       " {'produk': 'Sepatu Sepeda Motor ALL Bike AP Boots Hujan ALLBIKE 100 Original 439 - Merah 38',\n",
       "  'harga': 'Rp54.888',\n",
       "  'rating': '4.9',\n",
       "  'penjualan': 'Terjual 27772',\n",
       "  'store': 'Depok LBS OFFICIAL STORE'},\n",
       " {'produk': 'Tali sepatu',\n",
       "  'harga': 'Rp700',\n",
       "  'rating': '4.9',\n",
       "  'penjualan': 'Terjual 8882',\n",
       "  'store': 'Bogor Indra _ jaket _ Cimanggu'},\n",
       " {'produk': 'Tali Sepatu Oval panjang satu meter',\n",
       "  'harga': 'Rp800',\n",
       "  'rating': '4.8',\n",
       "  'penjualan': 'Terjual 7477',\n",
       "  'store': 'Bogor Indra _ jaket _ Cimanggu'},\n",
       " {'produk': 'Sepatu converse all star  + box',\n",
       "  'harga': 'Rp123.500',\n",
       "  'rating': '4.5',\n",
       "  'penjualan': 'Terjual 7476',\n",
       "  'store': 'Kab. Tangerang Star Shoes'},\n",
       " {'produk': 'Sepatu Adidas Slip On Casual',\n",
       "  'harga': 'Rp70.000',\n",
       "  'rating': '4.4',\n",
       "  'penjualan': 'Terjual 5164',\n",
       "  'store': 'Kab. Bandung Rezeki'},\n",
       " {'produk': 'ALAS  SEPATU atau BUSA ALAS DALAM SEPATU INSOLE',\n",
       "  'harga': 'Rp4.000',\n",
       "  'rating': '4.8',\n",
       "  'penjualan': 'Terjual 5102',\n",
       "  'store': 'Kab. Bogor wiwik nanang'},\n",
       " {'produk': 'Sepatu Safety - Safety Low Boots - Sepatu Kerja Safety Industry Proyek Safety Shoes Premium',\n",
       "  'harga': 'Rp135.000',\n",
       "  'rating': '4.9',\n",
       "  'penjualan': 'Terjual 4564',\n",
       "  'store': 'Kab. Tangerang Seven Point Store'},\n",
       " {'produk': 'COD - SEPATU PANTOFEL MOCASSIN PRIA KULIT ASLI - HITAM COKELAT',\n",
       "  'harga': 'Rp135.000',\n",
       "  'rating': '4.7',\n",
       "  'penjualan': 'Terjual 4463',\n",
       "  'store': 'Bandung Bellionz'},\n",
       " {'produk': 'Tali Sepatu/Tali Jumper Meteran Hitam',\n",
       "  'harga': 'Rp2.250',\n",
       "  'rating': '4.8',\n",
       "  'penjualan': 'Terjual 4394',\n",
       "  'store': 'Malang Heaven Kaufen'},\n",
       " {'produk': 'Sepatu Sneakers Sneaker Pria Wanita Casual Sepatu Kerja Sekolah Olahraga Running Lari Import Original',\n",
       "  'harga': 'Rp228.000',\n",
       "  'rating': '5',\n",
       "  'penjualan': 'Terjual 4262',\n",
       "  'store': 'Jakarta Pusat White Stone'},\n",
       " {'produk': 'Sepatu Sneakers Sneaker Pria Wanita Sepatu Running Lari Olahraga Casual Kets',\n",
       "  'harga': 'Rp229.000',\n",
       "  'rating': '5',\n",
       "  'penjualan': 'Terjual 4253',\n",
       "  'store': 'Jakarta Pusat White Stone'},\n",
       " {'produk': 'COD - SEPATU KULIT PRIA CASUAL - SEPATU KANTOR PRIA CASUAL - PANSUS HITAM COKELAT XT4Y',\n",
       "  'harga': 'Rp345.000',\n",
       "  'rating': '5',\n",
       "  'penjualan': 'Terjual 4010',\n",
       "  'store': 'Bandung Bellionz'},\n",
       " {'produk': 'Sepatu Original Pria Hipzo M 033 Badminton Olahraga Sekolah Kerja Sepatu Sneakers Ori',\n",
       "  'harga': 'Rp95.000',\n",
       "  'rating': '4.8',\n",
       "  'penjualan': 'Terjual 4005',\n",
       "  'store': 'Kab. Mojokerto Hipzo Official Shop'},\n",
       " {'produk': 'Sepatu Karet Pria - Pantofel - Sepatu Kerja - Sepatu Formal C',\n",
       "  'harga': 'Rp58.000',\n",
       "  'rating': '4.8',\n",
       "  'penjualan': 'Terjual 3960',\n",
       "  'store': 'Jakarta Selatan 89stories'},\n",
       " {'produk': 'ORTHOPEDIC SILICON GEL INSOLE FULL SHOE SPORT INSERT PAD ALAS SEPATU',\n",
       "  'harga': 'Rp50.000',\n",
       "  'rating': '4.9',\n",
       "  'penjualan': 'Terjual 3908',\n",
       "  'store': 'Tangerang Need Soon'},\n",
       " {'produk': 'Sepatu AP Hobby N Work Boots Kerja By AP BOOT Pendek Pvc Waterproof - Hitam 40',\n",
       "  'harga': 'Rp64.888',\n",
       "  'rating': '4.9',\n",
       "  'penjualan': 'Terjual 3794',\n",
       "  'store': 'Depok LBS OFFICIAL STORE'},\n",
       " {'produk': 'Sepatu Sneakers Pria Wanita Sepatu Kets Casual Running Lari Olahraga Sport',\n",
       "  'harga': 'Rp298.000',\n",
       "  'rating': '5',\n",
       "  'penjualan': 'Terjual 3688',\n",
       "  'store': 'Jakarta Pusat White Stone'},\n",
       " {'produk': 'TALI SEPATU BULAT LORENG',\n",
       "  'harga': 'Rp1.800',\n",
       "  'rating': '4.8',\n",
       "  'penjualan': 'Terjual 3654',\n",
       "  'store': 'Kab. Bogor wiwik nanang'},\n",
       " {'produk': 'SEPATU SAFETY CUSTOM',\n",
       "  'harga': 'Rp95.000',\n",
       "  'rating': '4.8',\n",
       "  'penjualan': 'Terjual 3614',\n",
       "  'store': 'Bandung Jakober_Store'},\n",
       " {'produk': 'Sepatu Pria Hipzo M 039 Formal Sneakers Original NEW',\n",
       "  'harga': 'Rp120.000',\n",
       "  'rating': '4.9',\n",
       "  'penjualan': 'Terjual 3515',\n",
       "  'store': 'Kab. Mojokerto Hipzo Official Shop'},\n",
       " {'produk': 'Sepatu Sneakers Sneaker Pria Wanita Sepatu Kerja Sekolah Casual Santai Sepatu Kets Olahraga Running Lari Original',\n",
       "  'harga': 'Rp199.000',\n",
       "  'rating': '5',\n",
       "  'penjualan': 'Terjual 3306',\n",
       "  'store': 'Jakarta Pusat White Stone'},\n",
       " {'produk': 'Sepatu Safety bahan kulit sapi asli',\n",
       "  'harga': 'Rp110.000',\n",
       "  'rating': '4.7',\n",
       "  'penjualan': 'Terjual 3174',\n",
       "  'store': 'Surabaya Fitria Diah Wulansari'},\n",
       " {'produk': 'Sepatu Pantofel Kulit Sapi pria jaminan uang kembali jika bukan kulit 174',\n",
       "  'harga': 'Rp115.000',\n",
       "  'rating': '4.7',\n",
       "  'penjualan': 'Terjual 3134',\n",
       "  'store': 'Surabaya Fitria Diah Wulansari'},\n",
       " {'produk': 'Sepatu safety boot kulit sapi asli jaminan uang kembali jika bukan kulit.',\n",
       "  'harga': 'Rp130.000',\n",
       "  'rating': '4.6',\n",
       "  'penjualan': 'Terjual 3101',\n",
       "  'store': 'Surabaya Fitria Diah Wulansari'},\n",
       " {'produk': 'Sepatu Pria Safety BESI Hipzo M 41 Original 100 Untuk Pria Kerja Proyek',\n",
       "  'harga': 'Rp140.000',\n",
       "  'rating': '4.9',\n",
       "  'penjualan': 'Terjual 2849',\n",
       "  'store': 'Kab. Mojokerto Hipzo Official Shop'},\n",
       " {'produk': 'INSOLE ARCH SUPPORT FLAT FOOT ORTHOPEDIC ORTHOTIC TEBAL 3CM ALAS KAKI',\n",
       "  'harga': 'Rp41.500',\n",
       "  'rating': '4.9',\n",
       "  'penjualan': 'Terjual 2845',\n",
       "  'store': 'Tangerang Need Soon'},\n",
       " {'produk': 'Sepatu pantofel pria kulit sapi asli gak kulit uang kembali 178',\n",
       "  'harga': 'Rp115.000',\n",
       "  'rating': '4.8',\n",
       "  'penjualan': 'Terjual 2795',\n",
       "  'store': 'Surabaya Fitria Diah Wulansari'},\n",
       " {'produk': 'INSOLE ORTHOTIC SPORT SHOCK ABSORBING SEPATU OLAHRAGA BREATABLE MESH',\n",
       "  'harga': 'Rp79.500',\n",
       "  'rating': '4.9',\n",
       "  'penjualan': 'Terjual 2792',\n",
       "  'store': 'Tangerang Need Soon'},\n",
       " {'produk': 'Sepatu Safety Bahan Kulit Ujung Besi Sepatu Tali',\n",
       "  'harga': 'Rp90.000',\n",
       "  'rating': '5',\n",
       "  'penjualan': 'Terjual 2600',\n",
       "  'store': 'Bandung Jakober_Store'},\n",
       " {'produk': 'Sepatu Sneakers Sneaker Pria Wanita Sepatu Kerja Sekolah Casual Sepatu Kets Olahraga Running Lari',\n",
       "  'harga': 'Rp199.000',\n",
       "  'rating': '5',\n",
       "  'penjualan': 'Terjual 2261',\n",
       "  'store': 'Jakarta Pusat White Stone'}]"
      ]
     },
     "execution_count": 45,
     "metadata": {},
     "output_type": "execute_result"
    }
   ],
   "source": [
    "products"
   ]
  },
  {
   "cell_type": "code",
   "execution_count": 49,
   "id": "2b00c949-b390-44e6-a2be-ffaaca177149",
   "metadata": {},
   "outputs": [],
   "source": [
    "#products[0]\n",
    "products.pop(0)"
   ]
  },
  {
   "cell_type": "code",
   "execution_count": 50,
   "id": "cd7a56ee-17a8-4522-854d-bb3f58179957",
   "metadata": {},
   "outputs": [
    {
     "data": {
      "text/plain": [
       "{'produk': 'Sepatu Sepeda Motor ALL Bike AP Boots Hujan ALLBIKE 100 Original 439 - Merah 38',\n",
       " 'harga': 'Rp54.888',\n",
       " 'rating': '4.9',\n",
       " 'penjualan': 'Terjual 27772',\n",
       " 'store': 'Depok LBS OFFICIAL STORE'}"
      ]
     },
     "execution_count": 50,
     "metadata": {},
     "output_type": "execute_result"
    }
   ],
   "source": [
    "products[0]"
   ]
  },
  {
   "cell_type": "markdown",
   "id": "8a001268-ac29-494c-bdcb-26e3e80d073d",
   "metadata": {},
   "source": [
    "# fungsi untuk getData"
   ]
  },
  {
   "cell_type": "code",
   "execution_count": 51,
   "id": "1f59d9e4-06a5-44e0-b3ed-7c0c46d98bf9",
   "metadata": {},
   "outputs": [],
   "source": [
    "def getData(url,path):\n",
    "    response = requests.get(url)\n",
    "    content = response.content\n",
    "    parsed_html = html.fromstring(content)\n",
    "    data = parsed_html.xpath(path)\n",
    "    return data[0].text_content()"
   ]
  },
  {
   "cell_type": "code",
   "execution_count": 52,
   "id": "fbae8dbe-8ead-4843-9cb7-18ced0e43af2",
   "metadata": {},
   "outputs": [],
   "source": [
    "url2 = 'https://www.bukalapak.com/c/fashion-pria/sepatu-169?page=2'\n",
    "\n",
    "data2 = getData(url2,path)"
   ]
  },
  {
   "cell_type": "code",
   "execution_count": 53,
   "id": "8d2470b3-580b-4b50-a23e-a30c02fd998e",
   "metadata": {},
   "outputs": [
    {
     "data": {
      "text/plain": [
       "' \\n        Urutkan:\\n          Terlaris    52.744 barang             \\n          0\\n          \\n            Tali Sepatu/Tali Jumper Meteran Putih\\n             \\n          Rp2.250\\n           \\n              4.9\\n              \\n          Terjual 2179\\n         Malang Heaven Kaufen                \\n          0\\n          \\n            Sepatu Pria Formal Kickers Slank Sepatu Terbaru Cowok Kasual Kantor Dinas Kerja Santai Murah  Sepatu Kulit Asli Sapi Casual Pria Sneakers Terbaru\\n             \\n          Rp395.000\\n           \\n              4.9\\n              \\n          Terjual 2174\\n         Bandung Lapak_online22                \\n          0\\n          \\n            INSOLE SPORT ARCH SUPPORT PU FOAM ORTHOPEDIC PLANTAR FASCIITIS SEPATU\\n             \\n          Rp95.000\\n           \\n              4.9\\n              \\n          Terjual 2042\\n         Tangerang Need Soon                \\n          0\\n          \\n            Sepatu Boot Pria Boots Touring Casual Kulit Asli Resleting Non Safety Handmade Fordza BKS07\\n             \\n          Rp165.000\\n         \\n            Rp207.900\\n           \\n            -21%\\n            \\n              4.7\\n              \\n          Terjual 1974\\n         Kab. Bogor Fordza Shop                \\n          0\\n          \\n            sepatu converse tanpa box\\n             \\n          Rp55.000\\n           \\n              4.8\\n              \\n          Terjual 1932\\n         Tangerang dzaky sport                \\n          0\\n          \\n            Premium elastic lazy shoelace silicone - Tali sepatu silikon elastis\\n             \\n          Rp22.500\\n           \\n              4.8\\n              \\n          Terjual 1823\\n         Kab. Bandung Cipta Wholesale                \\n          0\\n          \\n            Sepatu Boot Delta 8\" - Warna Gurun\\n             \\n          Rp300.000\\n           \\n              4.7\\n              \\n          Terjual 1723\\n         Bandung Armory Indonesia                \\n          0\\n          \\n            Sepatu Pantofel Pria Semi Formal kulit asli warna hitam Fordza CBR107\\n             \\n          Rp140.000\\n         \\n            Rp174.900\\n           \\n            -20%\\n            \\n              4.8\\n              \\n          Terjual 1704\\n         Kab. Bogor Fordza Shop                \\n          0\\n          \\n            SEPATU BOOTS CROCODILE ARMOR SAFETY TOURING SEPATU GUNUNG MOTOR PRIA ORIGINAL TERBARU\\n             \\n          Rp105.000\\n           \\n              4.9\\n              \\n          Terjual 1663\\n         Bandung DM STYLE OFFICIAL SHOP                \\n          0\\n          \\n            BELI 2 PSG = 1 KG , SEPATU CONVERSE ALL STAR  LOW CUT + BOX CONVERSE\\n             \\n          Rp76.000\\n           \\n              4.6\\n              \\n          Terjual 1608\\n         Bandung Veloce 93                 \\n          0\\n          \\n            Pantofel pria kulit sapi asli hitam 190\\n             \\n          Rp115.000\\n           \\n              4.7\\n              \\n          Terjual 1600\\n         Surabaya Fitria Diah Wulansari                 \\n          0\\n          \\n            Insole Sepatu EVA Foam HONEYCOMB Anti Bau Anti Bacterial Anti Sweat\\n             \\n          Rp17.500\\n           \\n              4.9\\n              \\n          Terjual 1575\\n         Tangerang Need Soon                 \\n          0\\n          \\n            Sepatu Casual Running Nike Free Zoom Fly Knit Man Untuk Pria Cowo Black Hitam Biru Navy Merah Grey Running Joging Olah Raga Premium Import Vietnam\\n             \\n          Rp120.000\\n         \\n            Rp200.000\\n           \\n            -40%\\n            \\n              4.4\\n              \\n          Terjual 1564\\n         Depok ONE PROJECT                 \\n          0\\n          \\n            Sepatu Casual Pria Adidas Gazelle\\n             \\n          Rp120.000\\n         \\n            Rp150.000\\n           \\n            -20%\\n            \\n              4.6\\n              \\n          Terjual 1498\\n         Depok ONE PROJECT                 \\n          0\\n          \\n            Tali sepatu karet tali sepatu silikon silicon shoes karet\\n             \\n          Rp20.000\\n           \\n              4.7\\n              \\n          Terjual 1478\\n         Jakarta Barat Nick__Sport                 \\n          0\\n          \\n            Sepatu Sneakers Sneaker Pria Wanita Sepatu Casual Santai PREMIUM QUALITY\\n             \\n          Rp146.500\\n           \\n              5\\n              \\n          Terjual 1470\\n         Bandung GHAZLAN KAMILA                 \\n          0\\n          \\n            Sepatu Pria Sneaker NSA Sporty\\n             \\n          Rp50.000\\n           \\n              4.7\\n              \\n          Terjual 1451\\n         Kab. Bogor Dans Scout Shop                 \\n          0\\n          \\n            INSOLE SEPATU ALAS SEPATU MEMORY FOAM PAD FOAM\\n             \\n          Rp24.900\\n           \\n              4.9\\n              \\n          Terjual 1450\\n         Jakarta Utara Home Diaries                 \\n          0\\n          \\n            Sepatu Sneakers Sneaker Casual Pria Bisa Untuk Sepatu Sekolah Sepatu Santai KEREN\\n             \\n          Rp147.000\\n           \\n              5\\n              \\n          Terjual 1431\\n         Bandung GHAZLAN KAMILA                 \\n          0\\n          \\n            Sepatu Pantofel Kulit Terbaru Sepatu Sneakers Sale Sepatu Safety Kerja Sepatu Pria Termurah Sepatu Guru Dinas Sepatu Formal Terlaris\\n             \\n          Rp385.000\\n           \\n              5\\n              \\n          Terjual 1425\\n         Bandung Lapak_online22                 \\n          0\\n          \\n            INSOLE SEPATU SPORT PERFORMANCE OLAHRAGA SHOCK ABSORB ORTHOTIC PU FOAM\\n             \\n          Rp82.500\\n           \\n              4.9\\n              \\n          Terjual 1411\\n         Tangerang Need Soon                 \\n          0\\n          \\n            Raptor Safety shoes Black Ptl\\n             \\n          Rp89.000\\n           \\n              4.7\\n              \\n          Terjual 1375\\n         Surabaya Berkah Jaya Colletion                 \\n          0\\n          \\n            COD - SEPATU KULIT PRIA PANSUS KANTOR GEREJA PANTOPEL LOAFER MOCASSIN ASLI - COKELAT HITAM XT4T\\n             \\n          Rp175.000\\n           \\n              4.8\\n              \\n          Terjual 1309\\n         Bandung Bellionz                 \\n          0\\n          \\n            Sepatu Pria Hipzo M 35 Casual Slip On Kerja Murah Original\\n             \\n          Rp125.000\\n           \\n              4.9\\n              \\n          Terjual 1305\\n         Kab. Mojokerto Hipzo Official Shop                 \\n          0\\n          \\n            Sepatu Kickers MX One Slip On Casual Santai Formal Pria Coklat Hitam\\n             \\n          Rp84.900\\n         \\n            Rp125.000\\n           \\n            -32%\\n            \\n              4.8\\n              \\n          Terjual 1267\\n         Gresik LAPAK SEPATU SURABAYA                 \\n          0\\n          \\n            TERMURAH Sepatu Sneakers Nike Air Max Zoom Pegasus Untuk Running Olahraga Lari Pria Cowo Laki Hitam Putih Navy Merah Murah Grosir Grade Ori\\n             \\n          Rp120.000\\n         \\n            Rp200.000\\n           \\n            -40%\\n            \\n              4.6\\n              \\n          Terjual 1168\\n         Depok ONE PROJECT                 \\n          0\\n          \\n            sepatu kodachi 8111 new model.\\n             \\n          Rp110.000\\n           \\n              4.6\\n              \\n          Terjual 1143\\n         Jakarta Utara MAJU 828                 \\n          0\\n          \\n            Sepatu Safety - Sepatu Proyek - Safety Shoes\\n             \\n          Rp133.000\\n           \\n              4.9\\n              \\n          Terjual 1120\\n         Kab. Tangerang anekasepatu99                 \\n          0\\n          \\n            sepatu safety kulit sepatu kerja\\n             \\n          Rp130.000\\n           \\n              4.8\\n              \\n          Terjual 1095\\n         Sidoarjo Toko Barokah                 \\n          0\\n          \\n            Sepatu sandal selop pria\\n             \\n          Rp65.000\\n         \\n            Rp90.000\\n           \\n            -28%\\n            \\n              4.8\\n              \\n          Terjual 1079\\n         Malang Nukus Official Store         \\n      \\n        \\n    \\n    \\n          \\n            \\n              1\\n            \\n          \\n          \\n            \\n              2\\n            \\n          \\n        \\n          \\n            \\n              3\\n            \\n          \\n          \\n            \\n              4\\n            \\n          \\n          \\n            \\n              5\\n            \\n          \\n          \\n            \\n              6\\n            \\n          \\n          \\n            \\n              7\\n            \\n          \\n          \\n            \\n              8\\n            \\n          \\n          \\n            \\n              9\\n            \\n          \\n    …\\n    \\n      \\n        99\\n      \\n    \\n    \\n    \\n    \\n        \\n      \\n          \\n            Cari Sepatu di halaman lainnya\\n          \\n          \\n            \\n          \\n            \\n              21\\n            \\n          \\n        \\n          \\n            \\n              22\\n            \\n          \\n        \\n          \\n            \\n              23\\n            \\n          \\n        \\n          \\n            \\n              24\\n            \\n          \\n        \\n          \\n            \\n              25\\n            \\n          \\n        \\n          \\n            \\n              26\\n            \\n          \\n        \\n          \\n            \\n              27\\n            \\n          \\n        \\n          \\n            \\n              28\\n            \\n          \\n        \\n          \\n            \\n              29\\n            \\n          \\n        \\n          \\n            \\n              30\\n            \\n          \\n        \\n     '"
      ]
     },
     "execution_count": 53,
     "metadata": {},
     "output_type": "execute_result"
    }
   ],
   "source": [
    "data2"
   ]
  },
  {
   "cell_type": "markdown",
   "id": "b73ee093-d624-4189-bf52-8435f13d69c2",
   "metadata": {},
   "source": [
    "# fungsi untuk memperbaiki data"
   ]
  },
  {
   "cell_type": "code",
   "execution_count": 54,
   "id": "4c887baf-adaa-41ca-b988-e892fdd9e1b4",
   "metadata": {},
   "outputs": [],
   "source": [
    "def repairData(data,split1,split2):\n",
    "    data = str(data)\n",
    "    data = data.strip()\n",
    "    part = data.split(split1)\n",
    "    data_repair = part[1]\n",
    "    data_repair = data_repair.split(split2)\n",
    "    return data_repair"
   ]
  },
  {
   "cell_type": "code",
   "execution_count": 55,
   "id": "d76fa8d0-709f-4568-82d5-056ec1e7c4c5",
   "metadata": {},
   "outputs": [],
   "source": [
    "split1 = 'Urutkan:\\n          Terlaris    52.744 barang             \\n          '\n",
    "split2 = '0\\n          \\n            '"
   ]
  },
  {
   "cell_type": "code",
   "execution_count": 56,
   "id": "54d85305-c4f7-4972-9122-569e0096676a",
   "metadata": {},
   "outputs": [],
   "source": [
    "produk_sepatu2 = repairData(data2,split1,split2)"
   ]
  },
  {
   "cell_type": "code",
   "execution_count": 58,
   "id": "4e25c3f2-3132-4f9b-94a0-29f8e72bafad",
   "metadata": {},
   "outputs": [],
   "source": [
    "#produk_sepatu2"
   ]
  },
  {
   "cell_type": "code",
   "execution_count": 59,
   "id": "ff3e9546-467c-49cc-b0ba-79fd579b31d1",
   "metadata": {},
   "outputs": [],
   "source": [
    "for item in produk_sepatu2:\n",
    "    products.append(getInfoProduk(item))"
   ]
  },
  {
   "cell_type": "code",
   "execution_count": 64,
   "id": "a84d01a1-5d73-47ae-a81c-9c2ccf452118",
   "metadata": {},
   "outputs": [],
   "source": [
    "#products[30]\n",
    "products.pop(30)"
   ]
  },
  {
   "cell_type": "code",
   "execution_count": 65,
   "id": "03d04664-a8ab-468c-8bf2-f437ee1d36b9",
   "metadata": {},
   "outputs": [
    {
     "data": {
      "text/plain": [
       "60"
      ]
     },
     "execution_count": 65,
     "metadata": {},
     "output_type": "execute_result"
    }
   ],
   "source": [
    "len(products)"
   ]
  },
  {
   "cell_type": "code",
   "execution_count": 66,
   "id": "5362f44c-476d-4376-a055-d6bbafd4fcb7",
   "metadata": {},
   "outputs": [
    {
     "data": {
      "text/plain": [
       "{'produk': 'Tali Sepatu/Tali Jumper Meteran Putih',\n",
       " 'harga': 'Rp2.250',\n",
       " 'rating': '4.9',\n",
       " 'penjualan': 'Terjual 2179',\n",
       " 'store': 'Malang Heaven Kaufen'}"
      ]
     },
     "execution_count": 66,
     "metadata": {},
     "output_type": "execute_result"
    }
   ],
   "source": [
    "products[30]"
   ]
  },
  {
   "cell_type": "code",
   "execution_count": 67,
   "id": "7105682f-5b2b-454c-a2ce-14862cdd9c70",
   "metadata": {},
   "outputs": [],
   "source": [
    "url3 = 'https://www.bukalapak.com/c/fashion-pria/sepatu-169?page=3'\n",
    "\n",
    "data3 = getData(url3,path)"
   ]
  },
  {
   "cell_type": "code",
   "execution_count": 68,
   "id": "ed9229fb-5f21-4ff3-a46f-6f3b3fafc68e",
   "metadata": {},
   "outputs": [],
   "source": [
    "produk_sepatu3 = repairData(data3,split1,split2)"
   ]
  },
  {
   "cell_type": "code",
   "execution_count": 69,
   "id": "02c691e1-c6fa-493c-bc07-df4dca4818a4",
   "metadata": {},
   "outputs": [],
   "source": [
    "for item in produk_sepatu3:\n",
    "    products.append(getInfoProduk(item))"
   ]
  },
  {
   "cell_type": "code",
   "execution_count": 70,
   "id": "664cf328-df43-446b-b870-659dd65a4e51",
   "metadata": {},
   "outputs": [
    {
     "data": {
      "text/plain": [
       "91"
      ]
     },
     "execution_count": 70,
     "metadata": {},
     "output_type": "execute_result"
    }
   ],
   "source": [
    "len(products)"
   ]
  },
  {
   "cell_type": "code",
   "execution_count": 77,
   "id": "75cfa11f-3077-4a10-86be-5681d52c1799",
   "metadata": {},
   "outputs": [],
   "source": [
    "#products[60]\n",
    "products.pop(60)"
   ]
  },
  {
   "cell_type": "code",
   "execution_count": 79,
   "id": "5a61d604-3c2b-4ff3-bab3-6998964d6abb",
   "metadata": {},
   "outputs": [
    {
     "data": {
      "text/plain": [
       "90"
      ]
     },
     "execution_count": 79,
     "metadata": {},
     "output_type": "execute_result"
    }
   ],
   "source": [
    "len(products)"
   ]
  },
  {
   "cell_type": "code",
   "execution_count": 80,
   "id": "0021ee8c-13d0-444f-964f-6cf59ad8031a",
   "metadata": {},
   "outputs": [
    {
     "data": {
      "text/plain": [
       "{'produk': 'Sepatu safety pendek kulit sapi asli',\n",
       " 'harga': 'Rp115.000',\n",
       " 'rating': '4.9',\n",
       " 'penjualan': 'Terjual 865',\n",
       " 'store': 'Surabaya Fitria Diah Wulansari'}"
      ]
     },
     "execution_count": 80,
     "metadata": {},
     "output_type": "execute_result"
    }
   ],
   "source": [
    "products[85]"
   ]
  },
  {
   "cell_type": "code",
   "execution_count": 81,
   "id": "69951fab-b847-4f73-9726-1cf4e10c911b",
   "metadata": {},
   "outputs": [],
   "source": [
    "url4 = 'https://www.bukalapak.com/c/fashion-pria/sepatu-169?page=4'\n",
    "\n",
    "data4 = getData(url4,path)"
   ]
  },
  {
   "cell_type": "code",
   "execution_count": 82,
   "id": "98dc5604-4b83-4171-aa6c-28a4afd78f38",
   "metadata": {},
   "outputs": [],
   "source": [
    "produk_sepatu4 = repairData(data4,split1,split2)"
   ]
  },
  {
   "cell_type": "code",
   "execution_count": 83,
   "id": "99d14862-da44-4d31-afd7-f717a58d2263",
   "metadata": {},
   "outputs": [],
   "source": [
    "for item in produk_sepatu4:\n",
    "    products.append(getInfoProduk(item))"
   ]
  },
  {
   "cell_type": "code",
   "execution_count": 87,
   "id": "f2e4b703-af0e-4432-9179-f0aa0150f02e",
   "metadata": {},
   "outputs": [],
   "source": [
    "#products[90]\n",
    "products.pop(90)"
   ]
  },
  {
   "cell_type": "code",
   "execution_count": 88,
   "id": "029b3c16-7728-4371-95d9-fd68fd7b1b3a",
   "metadata": {},
   "outputs": [
    {
     "data": {
      "text/plain": [
       "{'produk': 'Sepatu Tactical Delta 8in',\n",
       " 'harga': 'Rp290.000',\n",
       " 'rating': '4.8',\n",
       " 'penjualan': 'Terjual 821',\n",
       " 'store': 'Jakarta Pusat BintangShopOnline'}"
      ]
     },
     "execution_count": 88,
     "metadata": {},
     "output_type": "execute_result"
    }
   ],
   "source": [
    "products[90]"
   ]
  },
  {
   "cell_type": "code",
   "execution_count": 89,
   "id": "aa4361ab-aacf-48cd-8923-f4f16f46bf47",
   "metadata": {},
   "outputs": [
    {
     "data": {
      "text/plain": [
       "120"
      ]
     },
     "execution_count": 89,
     "metadata": {},
     "output_type": "execute_result"
    }
   ],
   "source": [
    "len(products)"
   ]
  },
  {
   "cell_type": "code",
   "execution_count": 90,
   "id": "43302aee-5dd9-4c82-89e0-27efceb35a98",
   "metadata": {},
   "outputs": [],
   "source": [
    "url5 = 'https://www.bukalapak.com/c/fashion-pria/sepatu-169?page=5'\n",
    "\n",
    "data5 = getData(url5,path)"
   ]
  },
  {
   "cell_type": "code",
   "execution_count": 91,
   "id": "234f96c5-20ca-4e7a-ae17-c6a653c28daa",
   "metadata": {},
   "outputs": [],
   "source": [
    "produk_sepatu5 = repairData(data5,split1,split2)"
   ]
  },
  {
   "cell_type": "code",
   "execution_count": 92,
   "id": "9a8d8386-74ca-43f2-99e4-2d9eec4b8814",
   "metadata": {},
   "outputs": [],
   "source": [
    "for item in produk_sepatu5:\n",
    "    products.append(getInfoProduk(item))"
   ]
  },
  {
   "cell_type": "code",
   "execution_count": 95,
   "id": "84ed4328-a200-40d1-a422-0b68d13177fe",
   "metadata": {},
   "outputs": [
    {
     "data": {
      "text/plain": [
       "{'produk': 'sepatu kickers casual kulit asli sol jahit kuat',\n",
       " 'harga': 'Rp250.000',\n",
       " 'rating': '4.8',\n",
       " 'penjualan': 'Terjual 619',\n",
       " 'store': 'Kab. Bandung sayurshop'}"
      ]
     },
     "execution_count": 95,
     "metadata": {},
     "output_type": "execute_result"
    }
   ],
   "source": [
    "products[122]"
   ]
  },
  {
   "cell_type": "code",
   "execution_count": 97,
   "id": "a056fdfb-4b27-4056-821e-2ed614e98321",
   "metadata": {},
   "outputs": [],
   "source": [
    "#products[120]\n",
    "products.pop(120)"
   ]
  },
  {
   "cell_type": "code",
   "execution_count": 98,
   "id": "682c1dd1-8e2d-4d63-b812-9f034d46563f",
   "metadata": {},
   "outputs": [
    {
     "data": {
      "text/plain": [
       "{'produk': 'Penambahan sol / jahit sepatu melingkar',\n",
       " 'harga': 'Rp12.000',\n",
       " 'rating': '4.6',\n",
       " 'penjualan': 'Terjual 623',\n",
       " 'store': 'Surabaya Fitria Diah Wulansari'}"
      ]
     },
     "execution_count": 98,
     "metadata": {},
     "output_type": "execute_result"
    }
   ],
   "source": [
    "products[120]"
   ]
  },
  {
   "cell_type": "code",
   "execution_count": 99,
   "id": "a962e99c-bab6-4dcf-8e5c-8e04022e1f48",
   "metadata": {},
   "outputs": [
    {
     "data": {
      "text/plain": [
       "150"
      ]
     },
     "execution_count": 99,
     "metadata": {},
     "output_type": "execute_result"
    }
   ],
   "source": [
    "len(products)"
   ]
  },
  {
   "cell_type": "code",
   "execution_count": 106,
   "id": "ac608baa-1ccc-46cc-a4f3-489f55e64866",
   "metadata": {},
   "outputs": [
    {
     "data": {
      "text/plain": [
       "{'produk': 'Sepatu safety  boots kulit sapi asli gak kulit uang kembali',\n",
       " 'harga': 'Rp128.000',\n",
       " 'rating': '4.8',\n",
       " 'penjualan': 'Terjual 747',\n",
       " 'store': 'Surabaya Fitria Diah Wulansari'}"
      ]
     },
     "execution_count": 106,
     "metadata": {},
     "output_type": "execute_result"
    }
   ],
   "source": [
    "products[100]"
   ]
  },
  {
   "cell_type": "code",
   "execution_count": 107,
   "id": "5379cf24-e314-4f55-8539-0eacb13a52ba",
   "metadata": {},
   "outputs": [
    {
     "data": {
      "text/plain": [
       "[{'produk': 'Sepatu Sepeda Motor ALL Bike AP Boots Hujan ALLBIKE 100 Original 439 - Merah 38',\n",
       "  'harga': 'Rp54.888',\n",
       "  'rating': '4.9',\n",
       "  'penjualan': 'Terjual 27772',\n",
       "  'store': 'Depok LBS OFFICIAL STORE'},\n",
       " {'produk': 'Tali sepatu',\n",
       "  'harga': 'Rp700',\n",
       "  'rating': '4.9',\n",
       "  'penjualan': 'Terjual 8882',\n",
       "  'store': 'Bogor Indra _ jaket _ Cimanggu'},\n",
       " {'produk': 'Tali Sepatu Oval panjang satu meter',\n",
       "  'harga': 'Rp800',\n",
       "  'rating': '4.8',\n",
       "  'penjualan': 'Terjual 7477',\n",
       "  'store': 'Bogor Indra _ jaket _ Cimanggu'},\n",
       " {'produk': 'Sepatu converse all star  + box',\n",
       "  'harga': 'Rp123.500',\n",
       "  'rating': '4.5',\n",
       "  'penjualan': 'Terjual 7476',\n",
       "  'store': 'Kab. Tangerang Star Shoes'},\n",
       " {'produk': 'Sepatu Adidas Slip On Casual',\n",
       "  'harga': 'Rp70.000',\n",
       "  'rating': '4.4',\n",
       "  'penjualan': 'Terjual 5164',\n",
       "  'store': 'Kab. Bandung Rezeki'},\n",
       " {'produk': 'ALAS  SEPATU atau BUSA ALAS DALAM SEPATU INSOLE',\n",
       "  'harga': 'Rp4.000',\n",
       "  'rating': '4.8',\n",
       "  'penjualan': 'Terjual 5102',\n",
       "  'store': 'Kab. Bogor wiwik nanang'},\n",
       " {'produk': 'Sepatu Safety - Safety Low Boots - Sepatu Kerja Safety Industry Proyek Safety Shoes Premium',\n",
       "  'harga': 'Rp135.000',\n",
       "  'rating': '4.9',\n",
       "  'penjualan': 'Terjual 4564',\n",
       "  'store': 'Kab. Tangerang Seven Point Store'},\n",
       " {'produk': 'COD - SEPATU PANTOFEL MOCASSIN PRIA KULIT ASLI - HITAM COKELAT',\n",
       "  'harga': 'Rp135.000',\n",
       "  'rating': '4.7',\n",
       "  'penjualan': 'Terjual 4463',\n",
       "  'store': 'Bandung Bellionz'},\n",
       " {'produk': 'Tali Sepatu/Tali Jumper Meteran Hitam',\n",
       "  'harga': 'Rp2.250',\n",
       "  'rating': '4.8',\n",
       "  'penjualan': 'Terjual 4394',\n",
       "  'store': 'Malang Heaven Kaufen'},\n",
       " {'produk': 'Sepatu Sneakers Sneaker Pria Wanita Casual Sepatu Kerja Sekolah Olahraga Running Lari Import Original',\n",
       "  'harga': 'Rp228.000',\n",
       "  'rating': '5',\n",
       "  'penjualan': 'Terjual 4262',\n",
       "  'store': 'Jakarta Pusat White Stone'},\n",
       " {'produk': 'Sepatu Sneakers Sneaker Pria Wanita Sepatu Running Lari Olahraga Casual Kets',\n",
       "  'harga': 'Rp229.000',\n",
       "  'rating': '5',\n",
       "  'penjualan': 'Terjual 4253',\n",
       "  'store': 'Jakarta Pusat White Stone'},\n",
       " {'produk': 'COD - SEPATU KULIT PRIA CASUAL - SEPATU KANTOR PRIA CASUAL - PANSUS HITAM COKELAT XT4Y',\n",
       "  'harga': 'Rp345.000',\n",
       "  'rating': '5',\n",
       "  'penjualan': 'Terjual 4010',\n",
       "  'store': 'Bandung Bellionz'},\n",
       " {'produk': 'Sepatu Original Pria Hipzo M 033 Badminton Olahraga Sekolah Kerja Sepatu Sneakers Ori',\n",
       "  'harga': 'Rp95.000',\n",
       "  'rating': '4.8',\n",
       "  'penjualan': 'Terjual 4005',\n",
       "  'store': 'Kab. Mojokerto Hipzo Official Shop'},\n",
       " {'produk': 'Sepatu Karet Pria - Pantofel - Sepatu Kerja - Sepatu Formal C',\n",
       "  'harga': 'Rp58.000',\n",
       "  'rating': '4.8',\n",
       "  'penjualan': 'Terjual 3960',\n",
       "  'store': 'Jakarta Selatan 89stories'},\n",
       " {'produk': 'ORTHOPEDIC SILICON GEL INSOLE FULL SHOE SPORT INSERT PAD ALAS SEPATU',\n",
       "  'harga': 'Rp50.000',\n",
       "  'rating': '4.9',\n",
       "  'penjualan': 'Terjual 3908',\n",
       "  'store': 'Tangerang Need Soon'},\n",
       " {'produk': 'Sepatu AP Hobby N Work Boots Kerja By AP BOOT Pendek Pvc Waterproof - Hitam 40',\n",
       "  'harga': 'Rp64.888',\n",
       "  'rating': '4.9',\n",
       "  'penjualan': 'Terjual 3794',\n",
       "  'store': 'Depok LBS OFFICIAL STORE'},\n",
       " {'produk': 'Sepatu Sneakers Pria Wanita Sepatu Kets Casual Running Lari Olahraga Sport',\n",
       "  'harga': 'Rp298.000',\n",
       "  'rating': '5',\n",
       "  'penjualan': 'Terjual 3688',\n",
       "  'store': 'Jakarta Pusat White Stone'},\n",
       " {'produk': 'TALI SEPATU BULAT LORENG',\n",
       "  'harga': 'Rp1.800',\n",
       "  'rating': '4.8',\n",
       "  'penjualan': 'Terjual 3654',\n",
       "  'store': 'Kab. Bogor wiwik nanang'},\n",
       " {'produk': 'SEPATU SAFETY CUSTOM',\n",
       "  'harga': 'Rp95.000',\n",
       "  'rating': '4.8',\n",
       "  'penjualan': 'Terjual 3614',\n",
       "  'store': 'Bandung Jakober_Store'},\n",
       " {'produk': 'Sepatu Pria Hipzo M 039 Formal Sneakers Original NEW',\n",
       "  'harga': 'Rp120.000',\n",
       "  'rating': '4.9',\n",
       "  'penjualan': 'Terjual 3515',\n",
       "  'store': 'Kab. Mojokerto Hipzo Official Shop'},\n",
       " {'produk': 'Sepatu Sneakers Sneaker Pria Wanita Sepatu Kerja Sekolah Casual Santai Sepatu Kets Olahraga Running Lari Original',\n",
       "  'harga': 'Rp199.000',\n",
       "  'rating': '5',\n",
       "  'penjualan': 'Terjual 3306',\n",
       "  'store': 'Jakarta Pusat White Stone'},\n",
       " {'produk': 'Sepatu Safety bahan kulit sapi asli',\n",
       "  'harga': 'Rp110.000',\n",
       "  'rating': '4.7',\n",
       "  'penjualan': 'Terjual 3174',\n",
       "  'store': 'Surabaya Fitria Diah Wulansari'},\n",
       " {'produk': 'Sepatu Pantofel Kulit Sapi pria jaminan uang kembali jika bukan kulit 174',\n",
       "  'harga': 'Rp115.000',\n",
       "  'rating': '4.7',\n",
       "  'penjualan': 'Terjual 3134',\n",
       "  'store': 'Surabaya Fitria Diah Wulansari'},\n",
       " {'produk': 'Sepatu safety boot kulit sapi asli jaminan uang kembali jika bukan kulit.',\n",
       "  'harga': 'Rp130.000',\n",
       "  'rating': '4.6',\n",
       "  'penjualan': 'Terjual 3101',\n",
       "  'store': 'Surabaya Fitria Diah Wulansari'},\n",
       " {'produk': 'Sepatu Pria Safety BESI Hipzo M 41 Original 100 Untuk Pria Kerja Proyek',\n",
       "  'harga': 'Rp140.000',\n",
       "  'rating': '4.9',\n",
       "  'penjualan': 'Terjual 2849',\n",
       "  'store': 'Kab. Mojokerto Hipzo Official Shop'},\n",
       " {'produk': 'INSOLE ARCH SUPPORT FLAT FOOT ORTHOPEDIC ORTHOTIC TEBAL 3CM ALAS KAKI',\n",
       "  'harga': 'Rp41.500',\n",
       "  'rating': '4.9',\n",
       "  'penjualan': 'Terjual 2845',\n",
       "  'store': 'Tangerang Need Soon'},\n",
       " {'produk': 'Sepatu pantofel pria kulit sapi asli gak kulit uang kembali 178',\n",
       "  'harga': 'Rp115.000',\n",
       "  'rating': '4.8',\n",
       "  'penjualan': 'Terjual 2795',\n",
       "  'store': 'Surabaya Fitria Diah Wulansari'},\n",
       " {'produk': 'INSOLE ORTHOTIC SPORT SHOCK ABSORBING SEPATU OLAHRAGA BREATABLE MESH',\n",
       "  'harga': 'Rp79.500',\n",
       "  'rating': '4.9',\n",
       "  'penjualan': 'Terjual 2792',\n",
       "  'store': 'Tangerang Need Soon'},\n",
       " {'produk': 'Sepatu Safety Bahan Kulit Ujung Besi Sepatu Tali',\n",
       "  'harga': 'Rp90.000',\n",
       "  'rating': '5',\n",
       "  'penjualan': 'Terjual 2600',\n",
       "  'store': 'Bandung Jakober_Store'},\n",
       " {'produk': 'Sepatu Sneakers Sneaker Pria Wanita Sepatu Kerja Sekolah Casual Sepatu Kets Olahraga Running Lari',\n",
       "  'harga': 'Rp199.000',\n",
       "  'rating': '5',\n",
       "  'penjualan': 'Terjual 2261',\n",
       "  'store': 'Jakarta Pusat White Stone'},\n",
       " {'produk': 'Tali Sepatu/Tali Jumper Meteran Putih',\n",
       "  'harga': 'Rp2.250',\n",
       "  'rating': '4.9',\n",
       "  'penjualan': 'Terjual 2179',\n",
       "  'store': 'Malang Heaven Kaufen'},\n",
       " {'produk': 'Sepatu Pria Formal Kickers Slank Sepatu Terbaru Cowok Kasual Kantor Dinas Kerja Santai Murah  Sepatu Kulit Asli Sapi Casual Pria Sneakers Terbaru',\n",
       "  'harga': 'Rp395.000',\n",
       "  'rating': '4.9',\n",
       "  'penjualan': 'Terjual 2174',\n",
       "  'store': 'Bandung Lapak_online22'},\n",
       " {'produk': 'INSOLE SPORT ARCH SUPPORT PU FOAM ORTHOPEDIC PLANTAR FASCIITIS SEPATU',\n",
       "  'harga': 'Rp95.000',\n",
       "  'rating': '4.9',\n",
       "  'penjualan': 'Terjual 2042',\n",
       "  'store': 'Tangerang Need Soon'},\n",
       " {'produk': 'Sepatu Boot Pria Boots Touring Casual Kulit Asli Resleting Non Safety Handmade Fordza BKS07',\n",
       "  'harga': 'Rp207.900',\n",
       "  'rating': '4.7',\n",
       "  'penjualan': 'Terjual 1974',\n",
       "  'store': 'Kab. Bogor Fordza Shop'},\n",
       " {'produk': 'sepatu converse tanpa box',\n",
       "  'harga': 'Rp55.000',\n",
       "  'rating': '4.8',\n",
       "  'penjualan': 'Terjual 1932',\n",
       "  'store': 'Tangerang dzaky sport'},\n",
       " {'produk': 'Premium elastic lazy shoelace silicone - Tali sepatu silikon elastis',\n",
       "  'harga': 'Rp22.500',\n",
       "  'rating': '4.8',\n",
       "  'penjualan': 'Terjual 1823',\n",
       "  'store': 'Kab. Bandung Cipta Wholesale'},\n",
       " {'produk': 'Sepatu Boot Delta 8\" - Warna Gurun',\n",
       "  'harga': 'Rp300.000',\n",
       "  'rating': '4.7',\n",
       "  'penjualan': 'Terjual 1723',\n",
       "  'store': 'Bandung Armory Indonesia'},\n",
       " {'produk': 'Sepatu Pantofel Pria Semi Formal kulit asli warna hitam Fordza CBR107',\n",
       "  'harga': 'Rp174.900',\n",
       "  'rating': '4.8',\n",
       "  'penjualan': 'Terjual 1704',\n",
       "  'store': 'Kab. Bogor Fordza Shop'},\n",
       " {'produk': 'SEPATU BOOTS CROCODILE ARMOR SAFETY TOURING SEPATU GUNUNG MOTOR PRIA ORIGINAL TERBARU',\n",
       "  'harga': 'Rp105.000',\n",
       "  'rating': '4.9',\n",
       "  'penjualan': 'Terjual 1663',\n",
       "  'store': 'Bandung DM STYLE OFFICIAL SHOP'},\n",
       " {'produk': 'BELI 2 PSG = 1 KG , SEPATU CONVERSE ALL STAR  LOW CUT + BOX CONVERSE',\n",
       "  'harga': 'Rp76.000',\n",
       "  'rating': '4.6',\n",
       "  'penjualan': 'Terjual 1608',\n",
       "  'store': 'Bandung Veloce 93'},\n",
       " {'produk': 'Pantofel pria kulit sapi asli hitam 190',\n",
       "  'harga': 'Rp115.000',\n",
       "  'rating': '4.7',\n",
       "  'penjualan': 'Terjual 1600',\n",
       "  'store': 'Surabaya Fitria Diah Wulansari'},\n",
       " {'produk': 'Insole Sepatu EVA Foam HONEYCOMB Anti Bau Anti Bacterial Anti Sweat',\n",
       "  'harga': 'Rp17.500',\n",
       "  'rating': '4.9',\n",
       "  'penjualan': 'Terjual 1575',\n",
       "  'store': 'Tangerang Need Soon'},\n",
       " {'produk': 'Sepatu Casual Running Nike Free Zoom Fly Knit Man Untuk Pria Cowo Black Hitam Biru Navy Merah Grey Running Joging Olah Raga Premium Import Vietnam',\n",
       "  'harga': 'Rp200.000',\n",
       "  'rating': '4.4',\n",
       "  'penjualan': 'Terjual 1564',\n",
       "  'store': 'Depok ONE PROJECT'},\n",
       " {'produk': 'Sepatu Casual Pria Adidas Gazelle',\n",
       "  'harga': 'Rp150.000',\n",
       "  'rating': '4.6',\n",
       "  'penjualan': 'Terjual 1498',\n",
       "  'store': 'Depok ONE PROJECT'},\n",
       " {'produk': 'Tali sepatu karet tali sepatu silikon silicon shoes karet',\n",
       "  'harga': 'Rp20.000',\n",
       "  'rating': '4.7',\n",
       "  'penjualan': 'Terjual 1478',\n",
       "  'store': 'Jakarta Barat Nick__Sport'},\n",
       " {'produk': 'Sepatu Sneakers Sneaker Pria Wanita Sepatu Casual Santai PREMIUM QUALITY',\n",
       "  'harga': 'Rp146.500',\n",
       "  'rating': '5',\n",
       "  'penjualan': 'Terjual 1470',\n",
       "  'store': 'Bandung GHAZLAN KAMILA'},\n",
       " {'produk': 'Sepatu Pria Sneaker NSA Sporty',\n",
       "  'harga': 'Rp50.000',\n",
       "  'rating': '4.7',\n",
       "  'penjualan': 'Terjual 1451',\n",
       "  'store': 'Kab. Bogor Dans Scout Shop'},\n",
       " {'produk': 'INSOLE SEPATU ALAS SEPATU MEMORY FOAM PAD FOAM',\n",
       "  'harga': 'Rp24.900',\n",
       "  'rating': '4.9',\n",
       "  'penjualan': 'Terjual 1450',\n",
       "  'store': 'Jakarta Utara Home Diaries'},\n",
       " {'produk': 'Sepatu Sneakers Sneaker Casual Pria Bisa Untuk Sepatu Sekolah Sepatu Santai KEREN',\n",
       "  'harga': 'Rp147.000',\n",
       "  'rating': '5',\n",
       "  'penjualan': 'Terjual 1431',\n",
       "  'store': 'Bandung GHAZLAN KAMILA'},\n",
       " {'produk': 'Sepatu Pantofel Kulit Terbaru Sepatu Sneakers Sale Sepatu Safety Kerja Sepatu Pria Termurah Sepatu Guru Dinas Sepatu Formal Terlaris',\n",
       "  'harga': 'Rp385.000',\n",
       "  'rating': '5',\n",
       "  'penjualan': 'Terjual 1425',\n",
       "  'store': 'Bandung Lapak_online22'},\n",
       " {'produk': 'INSOLE SEPATU SPORT PERFORMANCE OLAHRAGA SHOCK ABSORB ORTHOTIC PU FOAM',\n",
       "  'harga': 'Rp82.500',\n",
       "  'rating': '4.9',\n",
       "  'penjualan': 'Terjual 1411',\n",
       "  'store': 'Tangerang Need Soon'},\n",
       " {'produk': 'Raptor Safety shoes Black Ptl',\n",
       "  'harga': 'Rp89.000',\n",
       "  'rating': '4.7',\n",
       "  'penjualan': 'Terjual 1375',\n",
       "  'store': 'Surabaya Berkah Jaya Colletion'},\n",
       " {'produk': 'COD - SEPATU KULIT PRIA PANSUS KANTOR GEREJA PANTOPEL LOAFER MOCASSIN ASLI - COKELAT HITAM XT4T',\n",
       "  'harga': 'Rp175.000',\n",
       "  'rating': '4.8',\n",
       "  'penjualan': 'Terjual 1309',\n",
       "  'store': 'Bandung Bellionz'},\n",
       " {'produk': 'Sepatu Pria Hipzo M 35 Casual Slip On Kerja Murah Original',\n",
       "  'harga': 'Rp125.000',\n",
       "  'rating': '4.9',\n",
       "  'penjualan': 'Terjual 1305',\n",
       "  'store': 'Kab. Mojokerto Hipzo Official Shop'},\n",
       " {'produk': 'Sepatu Kickers MX One Slip On Casual Santai Formal Pria Coklat Hitam',\n",
       "  'harga': 'Rp125.000',\n",
       "  'rating': '4.8',\n",
       "  'penjualan': 'Terjual 1267',\n",
       "  'store': 'Gresik LAPAK SEPATU SURABAYA'},\n",
       " {'produk': 'TERMURAH Sepatu Sneakers Nike Air Max Zoom Pegasus Untuk Running Olahraga Lari Pria Cowo Laki Hitam Putih Navy Merah Murah Grosir Grade Ori',\n",
       "  'harga': 'Rp200.000',\n",
       "  'rating': '4.6',\n",
       "  'penjualan': 'Terjual 1168',\n",
       "  'store': 'Depok ONE PROJECT'},\n",
       " {'produk': 'sepatu kodachi 8111 new model.',\n",
       "  'harga': 'Rp110.000',\n",
       "  'rating': '4.6',\n",
       "  'penjualan': 'Terjual 1143',\n",
       "  'store': 'Jakarta Utara MAJU 828'},\n",
       " {'produk': 'Sepatu Safety - Sepatu Proyek - Safety Shoes',\n",
       "  'harga': 'Rp133.000',\n",
       "  'rating': '4.9',\n",
       "  'penjualan': 'Terjual 1120',\n",
       "  'store': 'Kab. Tangerang anekasepatu99'},\n",
       " {'produk': 'sepatu safety kulit sepatu kerja',\n",
       "  'harga': 'Rp130.000',\n",
       "  'rating': '4.8',\n",
       "  'penjualan': 'Terjual 1095',\n",
       "  'store': 'Sidoarjo Toko Barokah'},\n",
       " {'produk': 'Sepatu sandal selop pria',\n",
       "  'harga': 'Rp90.000',\n",
       "  'rating': '4.8',\n",
       "  'penjualan': 'Terjual 1079',\n",
       "  'store': 'Malang Nukus Official Store'},\n",
       " {'produk': 'Redzeal Sepatu Sneakers Pria Jump6 Import Bahan Lentur Sol Karet',\n",
       "  'harga': 'Rp299.000',\n",
       "  'rating': '4.7',\n",
       "  'penjualan': 'Terjual 1079',\n",
       "  'store': 'Kab. Tangerang Redzeal Official Store'},\n",
       " {'produk': 'BLZ x LIBERIO SEPATU PANTOPEL CASUAL PRIA KULIT ASLI KANTOR FORMAL PANCUS SLIP ON KONDANGAN GEREJA',\n",
       "  'harga': 'Rp385.000',\n",
       "  'rating': '4.7',\n",
       "  'penjualan': 'Terjual 1076',\n",
       "  'store': 'Bandung Bellionz'},\n",
       " {'produk': 'Pantofel Absolute Black',\n",
       "  'harga': 'Rp50.000',\n",
       "  'rating': '4.8',\n",
       "  'penjualan': 'Terjual 1070',\n",
       "  'store': 'Jakarta Timur Sepatu Pioneer'},\n",
       " {'produk': 'Sepatu Converse All Star High hitam putih',\n",
       "  'harga': 'Rp80.000',\n",
       "  'rating': '4.5',\n",
       "  'penjualan': 'Terjual 1065',\n",
       "  'store': 'Kab. Tangerang Star Shoes'},\n",
       " {'produk': 'Sepatu Pria Original Hipzo M 047 Pria Boots Kasual Casual Boots kulit hiking Anti Air Sepatu Gunung',\n",
       "  'harga': 'Rp140.000',\n",
       "  'rating': '4.8',\n",
       "  'penjualan': 'Terjual 1040',\n",
       "  'store': 'Kab. Mojokerto Hipzo Official Shop'},\n",
       " {'produk': 'Sepatu Pria Pantofel Crocodile',\n",
       "  'harga': 'Rp200.000',\n",
       "  'rating': '4.7',\n",
       "  'penjualan': 'Terjual 1040',\n",
       "  'store': 'Bandung tina agustin'},\n",
       " {'produk': 'Sepatu Boot Pria Formal Pantofel Resleting | Sepatu Kulit Asli Bukan Kickers BOOTS01 HT MURAH',\n",
       "  'harga': 'Rp207.900',\n",
       "  'rating': '4.6',\n",
       "  'penjualan': 'Terjual 1036',\n",
       "  'store': 'Kab. Bogor Fordza Shop'},\n",
       " {'produk': 'Sepatu Safety Boots Pria Kulit Asli Ujung Besi Baja Sefty Cowok Septy Proyek Lapangan',\n",
       "  'harga': 'Rp253.000',\n",
       "  'rating': '4.8',\n",
       "  'penjualan': 'Terjual 1024',\n",
       "  'store': 'Kab. Tangerang Seven Point Store'},\n",
       " {'produk': 'Sepatu PDH Satpam - Paskibra - Linmas - Security - tni-polri - kilap T3k',\n",
       "  'harga': 'Rp119.000',\n",
       "  'rating': '4.6',\n",
       "  'penjualan': 'Terjual 1023',\n",
       "  'store': 'Kab. Bandung Pabrik Sepatu Gunung Puntang'},\n",
       " {'produk': 'Sepatu Boot Pria/ Sepatu Boots Kulit/ Boot Model Kickers, Caterpillar, Bally, Brodo BKS01TP',\n",
       "  'harga': 'Rp207.900',\n",
       "  'rating': '4.6',\n",
       "  'penjualan': 'Terjual 1016',\n",
       "  'store': 'Kab. Bogor Fordza Shop'},\n",
       " {'produk': 'Sepatu Casual Pria Murah Sepatu Slip On',\n",
       "  'harga': 'Rp200.000',\n",
       "  'rating': '5',\n",
       "  'penjualan': 'Terjual 1011',\n",
       "  'store': 'Bandung Justrue Store'},\n",
       " {'produk': 'sepatu pantofel kulit',\n",
       "  'harga': 'Rp300.000',\n",
       "  'rating': '4.7',\n",
       "  'penjualan': 'Terjual 984',\n",
       "  'store': 'Bandung tina agustin'},\n",
       " {'produk': 'Sepatu Boot Pria Formal/ Boot Pantofel Resleting/ Kulit Sapi Asli Kantoran Kerja Warna Hitam BOOTS02',\n",
       "  'harga': 'Rp207.900',\n",
       "  'rating': '4.6',\n",
       "  'penjualan': 'Terjual 975',\n",
       "  'store': 'Kab. Bogor Fordza Shop'},\n",
       " {'produk': 'sepatu formal kickers pantofel kulit asli Sepatu kantor pria',\n",
       "  'harga': 'Rp172.000',\n",
       "  'rating': '4.8',\n",
       "  'penjualan': 'Terjual 961',\n",
       "  'store': 'Kab. Tangerang lexsnoe shoes'},\n",
       " {'produk': 'Sepatu Casual Pria 100% KULIT. MURAH kode: CD05HT',\n",
       "  'harga': 'Rp141.900',\n",
       "  'rating': '4.7',\n",
       "  'penjualan': 'Terjual 939',\n",
       "  'store': 'Kab. Bogor Fordza Shop'},\n",
       " {'produk': 'Sepatu Pantofel Pria Kulit High Quality Model LV Formal/ Kantor/ Kerja 9011HT',\n",
       "  'harga': 'Rp251.900',\n",
       "  'rating': '4.8',\n",
       "  'penjualan': 'Terjual 929',\n",
       "  'store': 'Kab. Bogor Fordza Shop'},\n",
       " {'produk': 'Sepatu Pria Casual Slip On Formal Hitam Kulit Asli TPR Outsole Fordza MCL101',\n",
       "  'harga': 'Rp200.000',\n",
       "  'rating': '4.9',\n",
       "  'penjualan': 'Terjual 926',\n",
       "  'store': 'Kab. Bogor Fordza Shop'},\n",
       " {'produk': 'grosir moc3021 moc 3021 asli ori original',\n",
       "  'harga': 'Rp2.500',\n",
       "  'rating': '4.9',\n",
       "  'penjualan': 'Terjual 925',\n",
       "  'store': 'Jakarta Barat PCM Elektronik'},\n",
       " {'produk': 'SEPATU CONVERSE ALL STAR HIGH BLACK + BOX CONVERSE ,,',\n",
       "  'harga': 'Rp75.000',\n",
       "  'rating': '4.7',\n",
       "  'penjualan': 'Terjual 912',\n",
       "  'store': 'Bandung Veloce 93'},\n",
       " {'produk': 'Sepatu Pantofel Kulit Crocodile',\n",
       "  'harga': 'Rp119.000',\n",
       "  'rating': '4.3',\n",
       "  'penjualan': 'Terjual 910',\n",
       "  'store': 'Bandung sepatubandung'},\n",
       " {'produk': 'Sepatu Pantopel Kulit Pria kode: PT02HT',\n",
       "  'harga': 'Rp153.890',\n",
       "  'rating': '4.7',\n",
       "  'penjualan': 'Terjual 897',\n",
       "  'store': 'Kab. Bogor Fordza Shop'},\n",
       " {'produk': 'Sepatu Pantofel Pria CROCODILE Kulit Asli Formal Shoes Cowok SF01',\n",
       "  'harga': 'Rp75.000',\n",
       "  'rating': '4.7',\n",
       "  'penjualan': 'Terjual 892',\n",
       "  'store': 'Kab. Bandung Jadda Shoes'},\n",
       " {'produk': 'sepatu big size',\n",
       "  'harga': 'Rp80.000',\n",
       "  'rating': '5',\n",
       "  'penjualan': 'Terjual 881',\n",
       "  'store': 'Jakarta Timur wenes colection'},\n",
       " {'produk': 'sepatu slop kickers casual kerja santai pria hitam coklat Tua  promo bukalapak',\n",
       "  'harga': 'Rp60.000',\n",
       "  'rating': '4.6',\n",
       "  'penjualan': 'Terjual 881',\n",
       "  'store': 'Bandung Murni Onlineku'},\n",
       " {'produk': 'Best seller Sepatu sekolah nike airmax hitam polos',\n",
       "  'harga': 'Rp90.000',\n",
       "  'rating': '4.5',\n",
       "  'penjualan': 'Terjual 871',\n",
       "  'store': 'Sidoarjo by shop'},\n",
       " {'produk': 'Sepatu safety pendek kulit sapi asli',\n",
       "  'harga': 'Rp115.000',\n",
       "  'rating': '4.9',\n",
       "  'penjualan': 'Terjual 865',\n",
       "  'store': 'Surabaya Fitria Diah Wulansari'},\n",
       " {'produk': 'MEMORY FOAM INSOLES - SOL ALAS DALAM SEPATU AGAR LEBIH EMPUK DAN NYAMAN',\n",
       "  'harga': 'Rp15.500',\n",
       "  'rating': '4.8',\n",
       "  'penjualan': 'Terjual 863',\n",
       "  'store': 'Jakarta Utara Vannes Store'},\n",
       " {'produk': 'Sepatu PDH Paskibra - TNI - POLRI Termurah',\n",
       "  'harga': 'Rp109.000',\n",
       "  'rating': '4.4',\n",
       "  'penjualan': 'Terjual 835',\n",
       "  'store': 'Kab. Bandung Pabrik Sepatu Gunung Puntang'},\n",
       " {'produk': 'Sepatu Safety Slop - Safety Slip-on Sepatu Kerja Safety Selop - Safety Shoes Slip On Premium Safety',\n",
       "  'harga': 'Rp135.000',\n",
       "  'rating': '4.9',\n",
       "  'penjualan': 'Terjual 827',\n",
       "  'store': 'Kab. Tangerang Seven Point Store'},\n",
       " {'produk': 'Sepatu Pantofel Pria Sepatu Kickers Sepatu Formal Kerja',\n",
       "  'harga': '4.7',\n",
       "  'rating': '',\n",
       "  'penjualan': '',\n",
       "  'store': ''},\n",
       " {'produk': 'Sepatu Tactical Delta 8in',\n",
       "  'harga': 'Rp290.000',\n",
       "  'rating': '4.8',\n",
       "  'penjualan': 'Terjual 821',\n",
       "  'store': 'Jakarta Pusat BintangShopOnline'},\n",
       " {'produk': 'Sepatu safety boot slop elastis Bahan kulit sapi asli Sl 1',\n",
       "  'harga': 'Rp130.000',\n",
       "  'rating': '4.8',\n",
       "  'penjualan': 'Terjual 805',\n",
       "  'store': 'Surabaya Fitria Diah Wulansari'},\n",
       " {'produk': 'SEPATU FORMAL KICKERS PANTOFEL',\n",
       "  'harga': 'Rp70.000',\n",
       "  'rating': '4.6',\n",
       "  'penjualan': 'Terjual 805',\n",
       "  'store': 'Bandung dona saragih'},\n",
       " {'produk': 'Sepatu Casual Converse All Star Low',\n",
       "  'harga': 'Rp111.500',\n",
       "  'rating': '4.4',\n",
       "  'penjualan': 'Terjual 801',\n",
       "  'store': 'Kab. Tangerang Star Shoes'},\n",
       " {'produk': 'SEPATU KULIT PRIA - SEPATU PESTA PRIA - SEPATU PENTOPEL KONDANGAN - BAHAN KULIT SAPI - BLZ x ALBERTO',\n",
       "  'harga': 'Rp385.000',\n",
       "  'rating': '4.6',\n",
       "  'penjualan': 'Terjual 787',\n",
       "  'store': 'Bandung Bellionz'},\n",
       " {'produk': 'Warior clasic mengingatkan kita sekolah di th sembilanpuluhan',\n",
       "  'harga': 'Rp139.900',\n",
       "  'rating': '4.8',\n",
       "  'penjualan': 'Terjual 766',\n",
       "  'store': 'Sumedang primeshoes'},\n",
       " {'produk': 'Sepatu Joemen J 49 Original Import Sepatu Pria Wanita Kerja Sekolah Olahraga',\n",
       "  'harga': 'Rp200.000',\n",
       "  'rating': '4.8',\n",
       "  'penjualan': 'Terjual 764',\n",
       "  'store': 'Kab. Mojokerto Joemen Official Store'},\n",
       " {'produk': 'Sepatu Converse All Star High Tanpa Boks',\n",
       "  'harga': 'Rp56.000',\n",
       "  'rating': '4.9',\n",
       "  'penjualan': 'Terjual 764',\n",
       "  'store': 'Kab. Tangerang IyeqShop'},\n",
       " {'produk': 'Sepatu Safety Jogger Desert S1P Brown',\n",
       "  'harga': 'Rp455.000',\n",
       "  'rating': '4.9',\n",
       "  'penjualan': 'Terjual 762',\n",
       "  'store': 'Jakarta Barat Mulia Makmur'},\n",
       " {'produk': 'Sepatu Pantofel Karet ATT AB 520',\n",
       "  'harga': 'Rp29.000',\n",
       "  'rating': '4.8',\n",
       "  'penjualan': 'Terjual 756',\n",
       "  'store': 'Jakarta Barat Redshroom'},\n",
       " {'produk': 'Sepatu safety  boots kulit sapi asli gak kulit uang kembali',\n",
       "  'harga': 'Rp128.000',\n",
       "  'rating': '4.8',\n",
       "  'penjualan': 'Terjual 747',\n",
       "  'store': 'Surabaya Fitria Diah Wulansari'},\n",
       " {'produk': 'Sepatu Santai Pria ADIDAS SLop',\n",
       "  'harga': 'Rp150.000',\n",
       "  'rating': '4.6',\n",
       "  'penjualan': 'Terjual 743',\n",
       "  'store': 'Bandung Official Sepatu Bandung'},\n",
       " {'produk': 'Sepatu Boots Hiking Bikers HIPZO M-045 Original',\n",
       "  'harga': 'Rp140.000',\n",
       "  'rating': '4.8',\n",
       "  'penjualan': 'Terjual 729',\n",
       "  'store': 'Kab. Mojokerto Hipzo Official Shop'},\n",
       " {'produk': 'Sepatu Kulit Pantofel Kantor Kerja bukan Kickers | Handmade Premium 902HT',\n",
       "  'harga': 'Rp251.900',\n",
       "  'rating': '4.7',\n",
       "  'penjualan': 'Terjual 725',\n",
       "  'store': 'Kab. Bogor Fordza Shop'},\n",
       " {'produk': 'Sepatu PDH-R.03 KILAT | Tni | Polri (Tinggi)',\n",
       "  'harga': 'Rp200.000',\n",
       "  'rating': '4.6',\n",
       "  'penjualan': 'Terjual 718',\n",
       "  'store': 'Kab. Mojokerto MANDIENS STORE'},\n",
       " {'produk': 'sepatu warrior classic pendek sepatu 90thnan',\n",
       "  'harga': 'Rp134.900',\n",
       "  'rating': '4.6',\n",
       "  'penjualan': 'Terjual 715',\n",
       "  'store': 'Sumedang primeshoes'},\n",
       " {'produk': 'Sepatu Boot Pria Kulit Asli/ Boots Casual Tinggi/ Boot Touring Model Kickers 0606HT MURAH BKS03',\n",
       "  'harga': 'Rp240.900',\n",
       "  'rating': '4.7',\n",
       "  'penjualan': 'Terjual 712',\n",
       "  'store': 'Kab. Bogor Fordza Shop'},\n",
       " {'produk': 'Sepatu Vans Old Skool',\n",
       "  'harga': 'Rp300.000',\n",
       "  'rating': '4.7',\n",
       "  'penjualan': 'Terjual 710',\n",
       "  'store': 'Depok ONE PROJECT'},\n",
       " {'produk': 'Sepatu Casual Pria Kulit Asli Model Tali Sneakers Santai Semi Formal Hand Made Fordza 207',\n",
       "  'harga': 'Rp174.900',\n",
       "  'rating': '4.8',\n",
       "  'penjualan': 'Terjual 704',\n",
       "  'store': 'Kab. Bogor Fordza Shop'},\n",
       " {'produk': 'sepatu boots pria keren sepatu kickers safety suede mercy  ..',\n",
       "  'harga': 'Rp130.000',\n",
       "  'rating': '4.2',\n",
       "  'penjualan': 'Terjual 702',\n",
       "  'store': 'Bandung andre shop bandung'},\n",
       " {'produk': 'SEPATU CONVERSE ALL STAR HIGH + BOX GRADE ORI',\n",
       "  'harga': 'Rp110.000',\n",
       "  'rating': '4.5',\n",
       "  'penjualan': 'Terjual 691',\n",
       "  'store': 'Kab. Tangerang kinnantishop'},\n",
       " {'produk': 'Sepatu PDL Ninja Termurah & Asli Kulit',\n",
       "  'harga': 'Rp229.000',\n",
       "  'rating': '4.6',\n",
       "  'penjualan': 'Terjual 683',\n",
       "  'store': 'Kab. Bandung Pabrik Sepatu Gunung Puntang'},\n",
       " {'produk': 'Sepatu Pria Original Sneaker Pria Wanita Casual Simpel Promo Sepatu Sneaker Import Terbaik',\n",
       "  'harga': 'Rp180.000',\n",
       "  'rating': '4.9',\n",
       "  'penjualan': 'Terjual 681',\n",
       "  'store': 'Jakarta Barat Ristoys'},\n",
       " {'produk': 'Sepatu Pdh',\n",
       "  'harga': 'Rp99.000',\n",
       "  'rating': '4.7',\n",
       "  'penjualan': 'Terjual 678',\n",
       "  'store': 'Bandung KONVEKSI ARMY45'},\n",
       " {'produk': 'sepatu converse premium bamper warna/FREE KAOS KAKI',\n",
       "  'harga': 'Rp90.000',\n",
       "  'rating': '4.9',\n",
       "  'penjualan': 'Terjual 661',\n",
       "  'store': 'Tangerang dzaky sport'},\n",
       " {'produk': 'Sepatu Pria Casual Sneakers Low Boot Kulit Asli Semi Pantofel Modell BLY-535',\n",
       "  'harga': 'Rp251.900',\n",
       "  'rating': '4.8',\n",
       "  'penjualan': 'Terjual 648',\n",
       "  'store': 'Kab. Bogor Fordza Shop'},\n",
       " {'produk': 'sepatu PDH mengkilap original',\n",
       "  'harga': 'Rp110.000',\n",
       "  'rating': '4.6',\n",
       "  'penjualan': 'Terjual 645',\n",
       "  'store': 'Bandung BODUT ARMY'},\n",
       " {'produk': 'sepatu safety boots bahan kulit sapi asli av 4',\n",
       "  'harga': 'Rp130.000',\n",
       "  'rating': '4.8',\n",
       "  'penjualan': 'Terjual 641',\n",
       "  'store': 'Surabaya Fitria Diah Wulansari'},\n",
       " {'produk': 'SEPATU DELTA FORCE TAN 8 INCH',\n",
       "  'harga': 'Rp299.000',\n",
       "  'rating': '4.7',\n",
       "  'penjualan': 'Terjual 641',\n",
       "  'store': 'Jakarta Barat Toko EL88'},\n",
       " {'produk': 'Sepatu Kulit Pria Pantofel Formal Kerja Kantor Anti Slip Murah 509',\n",
       "  'harga': 'Rp164.890',\n",
       "  'rating': '4.7',\n",
       "  'penjualan': 'Terjual 629',\n",
       "  'store': 'Kab. Bogor Fordza Shop'},\n",
       " {'produk': 'Penambahan sol / jahit sepatu melingkar',\n",
       "  'harga': 'Rp12.000',\n",
       "  'rating': '4.6',\n",
       "  'penjualan': 'Terjual 623',\n",
       "  'store': 'Surabaya Fitria Diah Wulansari'},\n",
       " {'produk': 'sepatu kickers casual kulit asli sol jahit kuat',\n",
       "  'harga': 'Rp250.000',\n",
       "  'rating': '4.8',\n",
       "  'penjualan': 'Terjual 619',\n",
       "  'store': 'Kab. Bandung sayurshop'},\n",
       " {'produk': 'Kiwi Shoe Polish semir sepatu 17.5ml hitam',\n",
       "  'harga': 'Rp8.900',\n",
       "  'rating': '4.9',\n",
       "  'penjualan': 'Terjual 618',\n",
       "  'store': 'Bandung MUMOS'},\n",
       " {'produk': 'HOT PROMO Sepatu Sneakers Casual Adidas Gazelle Man Untuk Pria Cowo Cowok Laki Murah Grosir Size Ukuran 39 40 41 42 43',\n",
       "  'harga': 'Rp150.000',\n",
       "  'rating': '4.5',\n",
       "  'penjualan': 'Terjual 617',\n",
       "  'store': 'Depok ONE PROJECT'},\n",
       " {'produk': 'Sepatu Pantofel Kulit Sapi Garut',\n",
       "  'harga': 'Rp110.000',\n",
       "  'rating': '4.5',\n",
       "  'penjualan': 'Terjual 613',\n",
       "  'store': 'Bandung sepatubandung'},\n",
       " {'produk': 'Sepatu Boots Kickers Safety Shoes Boot Pria Murah #Proyek#Casual#Caterpillar#Crocodile#Bandung#Touring#Tracking#Hiking#Worksafe#Steel Toe#Delta#Tactical',\n",
       "  'harga': 'Rp220.000',\n",
       "  'rating': '4.7',\n",
       "  'penjualan': 'Terjual 610',\n",
       "  'store': 'Kab. Bandung kantin sepatu'},\n",
       " {'produk': 'Sepatu Boot Pria Kulit Asli Model Pantofel Formal Handmade Berkuaitas 0317',\n",
       "  'harga': 'Rp250.000',\n",
       "  'rating': '4.7',\n",
       "  'penjualan': 'Terjual 607',\n",
       "  'store': 'Kab. Bogor Fordza Shop'},\n",
       " {'produk': 'box skechers',\n",
       "  'harga': 'Rp15.000',\n",
       "  'rating': '4.6',\n",
       "  'penjualan': 'Terjual 604',\n",
       "  'store': 'Jakarta Pusat C Boutique'},\n",
       " {'produk': 'siku kaca miring 25cm',\n",
       "  'harga': 'Rp13.000',\n",
       "  'rating': '5',\n",
       "  'penjualan': 'Terjual 600',\n",
       "  'store': 'Bekasi Dunia Hanger'},\n",
       " {'produk': 'SEPATU DELTA FORCE TAN 6 INCH',\n",
       "  'harga': 'Rp299.000',\n",
       "  'rating': '4.7',\n",
       "  'penjualan': 'Terjual 597',\n",
       "  'store': 'Jakarta Barat Toko EL88'},\n",
       " {'produk': 'Sepatu Casual Pria Kickers Shaka',\n",
       "  'harga': 'Rp200.000',\n",
       "  'rating': '4.4',\n",
       "  'penjualan': 'Terjual 594',\n",
       "  'store': 'Bandung Leonelshop Bandung'},\n",
       " {'produk': 'Sepatu Nike Airmax Zoom Grade Ori Full White Putih Sport Casual Pria',\n",
       "  'harga': 'Rp150.000',\n",
       "  'rating': '4.7',\n",
       "  'penjualan': 'Terjual 579',\n",
       "  'store': 'Gresik LAPAK SEPATU SURABAYA'},\n",
       " {'produk': 'Alas sepatu Sol sepatu memory foam insole Lembut semua ukuran',\n",
       "  'harga': 'Rp67.800',\n",
       "  'rating': '4.8',\n",
       "  'penjualan': 'Terjual 578',\n",
       "  'store': 'Jakarta Pusat Toko25jam'},\n",
       " {'produk': 'Sepatu pantofel tali',\n",
       "  'harga': 'Rp68.500',\n",
       "  'rating': '4.7',\n",
       "  'penjualan': 'Terjual 577',\n",
       "  'store': 'Malang Nukus Official Store'},\n",
       " {'produk': 'sepatu safety boot bahan kulit sapi L.1',\n",
       "  'harga': 'Rp130.000',\n",
       "  'rating': '4.7',\n",
       "  'penjualan': 'Terjual 575',\n",
       "  'store': 'Surabaya Fitria Diah Wulansari'},\n",
       " {'produk': 'Tali Lilin Gepeng (Flat) 120cm Variasi Warna untuk Sepatu Sneakers',\n",
       "  'harga': 'Rp35.000',\n",
       "  'rating': '4.9',\n",
       "  'penjualan': 'Terjual 570',\n",
       "  'store': 'Bandung Mr. Shoelaces'},\n",
       " {'produk': 'Sepatu Pantofel Karet ATT SAF 1146',\n",
       "  'harga': 'Rp32.000',\n",
       "  'rating': '4.7',\n",
       "  'penjualan': 'Terjual 565',\n",
       "  'store': 'Jakarta Barat Redshroom'},\n",
       " {'produk': 'Sepatu Kerja Kantor Pantofel Pria Formal bahan Kulit - Murah Berkualitas',\n",
       "  'harga': 'Rp196.000',\n",
       "  'rating': '4.7',\n",
       "  'penjualan': 'Terjual 560',\n",
       "  'store': 'Kab. Bandung WETAN Store'},\n",
       " {'produk': 'Techdoo Sepatu Pria Outdoor Sport Air Mesh Korea Kasual Running Shoes MR209',\n",
       "  'harga': 'Rp198.000',\n",
       "  'rating': '4.8',\n",
       "  'penjualan': 'Terjual 557',\n",
       "  'store': 'Tangerang Techdoo'},\n",
       " {'produk': 'sepatu safety kulit pria sepatu tali safety',\n",
       "  'harga': 'Rp140.000',\n",
       "  'rating': '4.7',\n",
       "  'penjualan': 'Terjual 554',\n",
       "  'store': 'Sidoarjo Toko Barokah'},\n",
       " {'produk': 'Sepatu Kickers pantofel Kulit Swedia untuk kerja kantor resmi formal pria',\n",
       "  'harga': 'Rp90.000',\n",
       "  'rating': '4.3',\n",
       "  'penjualan': 'Terjual 539',\n",
       "  'store': 'Bandung dona saragih'},\n",
       " {'produk': 'sepatu pdh',\n",
       "  'harga': 'Rp145.000',\n",
       "  'rating': '4.6',\n",
       "  'penjualan': 'Terjual 529',\n",
       "  'store': 'Bandung Murni Onlineku'},\n",
       " {'produk': 'Sepatu Boots Murah Docmart Dr Martens pria 8 lubang / hole - bahan KULIT',\n",
       "  'harga': 'Rp225.000',\n",
       "  'rating': '4.7',\n",
       "  'penjualan': 'Terjual 528',\n",
       "  'store': 'Kab. Bandung WETAN Store'},\n",
       " {'produk': 'KipzKapz FS73 Walnut Brown 90cm 115cm 140cm 160cm Tali Sepatu Pipih - Flat Shoelace',\n",
       "  'harga': 'Rp28.000',\n",
       "  'rating': '4.5',\n",
       "  'penjualan': 'Terjual 528',\n",
       "  'store': 'Jakarta Pusat Kipzkapz Official Store'},\n",
       " {'produk': 'Sepatu Pantofel Kulit Garut Risleting Kickers Formal Kerja Kantoran',\n",
       "  'harga': 'Rp155.000',\n",
       "  'rating': '4.6',\n",
       "  'penjualan': 'Terjual 523',\n",
       "  'store': 'Bandung sepatubandung'},\n",
       " {'produk': \"Sepatu Pria Brodo Boots Sauqi Footwear Sepatu Kulit Asli Casual Formal Men's Boots Premium Leather #Brodo #Kickers #CAT #Clarks #Grosir Sepatu #Sepatu Pria\",\n",
       "  'harga': 'Rp280.000',\n",
       "  'rating': '4.4',\n",
       "  'penjualan': 'Terjual 522',\n",
       "  'store': 'Bandung Rumah Sepatu Murah'},\n",
       " {'produk': 'Sepatu safety bahan kulit asli KRC. 1',\n",
       "  'harga': 'Rp130.000',\n",
       "  'rating': '4.6',\n",
       "  'penjualan': 'Terjual 518',\n",
       "  'store': 'Surabaya Fitria Diah Wulansari'},\n",
       " {'produk': 'Sepatu Converse All Star Abu + box',\n",
       "  'harga': 'Rp125.000',\n",
       "  'rating': '4.6',\n",
       "  'penjualan': 'Terjual 516',\n",
       "  'store': 'Kab. Tangerang Star Shoes'},\n",
       " {'produk': 'slop murah',\n",
       "  'harga': 'Rp50.000',\n",
       "  'rating': '5',\n",
       "  'penjualan': 'Terjual 514',\n",
       "  'store': 'Jakarta Timur wenes colection'},\n",
       " {'produk': 'Shoe Pad Silicone Alas Kaki Sepatu Gel Insole Empuk Sepatu Sneaker Anti Bau',\n",
       "  'harga': '4.9',\n",
       "  'rating': '',\n",
       "  'penjualan': '',\n",
       "  'store': ''}]"
      ]
     },
     "execution_count": 107,
     "metadata": {},
     "output_type": "execute_result"
    }
   ],
   "source": [
    "products"
   ]
  },
  {
   "cell_type": "code",
   "execution_count": null,
   "id": "e3e83b77-a0e0-454a-b03a-99eb2eea9e59",
   "metadata": {},
   "outputs": [],
   "source": []
  }
 ],
 "metadata": {
  "kernelspec": {
   "display_name": "Python 3 (ipykernel)",
   "language": "python",
   "name": "python3"
  },
  "language_info": {
   "codemirror_mode": {
    "name": "ipython",
    "version": 3
   },
   "file_extension": ".py",
   "mimetype": "text/x-python",
   "name": "python",
   "nbconvert_exporter": "python",
   "pygments_lexer": "ipython3",
   "version": "3.9.18"
  }
 },
 "nbformat": 4,
 "nbformat_minor": 5
}
